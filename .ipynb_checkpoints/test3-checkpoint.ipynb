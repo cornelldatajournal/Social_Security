{
 "cells": [
  {
   "cell_type": "code",
   "execution_count": null,
   "id": "38bb4482-5b3f-4316-b066-fffcd3faabcb",
   "metadata": {},
   "outputs": [],
   "source": [
    "# Title"
   ]
  },
  {
   "cell_type": "code",
   "execution_count": null,
   "id": "1f93b371-ec19-48dc-b542-2cce9c688f17",
   "metadata": {},
   "outputs": [],
   "source": [
    "## Subtitle"
   ]
  }
 ],
 "metadata": {
  "kernelspec": {
   "display_name": "Python 3 (ipykernel)",
   "language": "python",
   "name": "python3"
  },
  "language_info": {
   "codemirror_mode": {
    "name": "ipython",
    "version": 3
   },
   "file_extension": ".py",
   "mimetype": "text/x-python",
   "name": "python",
   "nbconvert_exporter": "python",
   "pygments_lexer": "ipython3",
   "version": "3.12.4"
  }
 },
 "nbformat": 4,
 "nbformat_minor": 5
}
