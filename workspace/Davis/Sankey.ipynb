{
 "cells": [
  {
   "cell_type": "code",
   "execution_count": 695,
   "id": "cb51dcef-4f6e-49ba-a305-77a5b7ae4f65",
   "metadata": {},
   "outputs": [],
   "source": [
    "import plotly.graph_objects as go\n",
    "import pandas as pd\n",
    "import matplotlib.pyplot as plt\n",
    "import seaborn as sns"
   ]
  },
  {
   "cell_type": "code",
   "execution_count": 207,
   "id": "a181197c-6043-4eed-81f7-c6b31e7cdc4f",
   "metadata": {},
   "outputs": [],
   "source": [
    "df_fica = pd.read_excel(\"OASDI_FICA_Breakdown.xlsx\")\n",
    "df_fica = df_fica.T\n",
    "df_fica.columns = df_fica.iloc[0]\n",
    "df_fica.drop(index = \"Program and Source\", inplace = True)"
   ]
  },
  {
   "cell_type": "code",
   "execution_count": 209,
   "id": "48464488-f757-442b-a9ed-fedee79ee25f",
   "metadata": {},
   "outputs": [
    {
     "data": {
      "text/html": [
       "<div>\n",
       "<style scoped>\n",
       "    .dataframe tbody tr th:only-of-type {\n",
       "        vertical-align: middle;\n",
       "    }\n",
       "\n",
       "    .dataframe tbody tr th {\n",
       "        vertical-align: top;\n",
       "    }\n",
       "\n",
       "    .dataframe thead th {\n",
       "        text-align: right;\n",
       "    }\n",
       "</style>\n",
       "<table border=\"1\" class=\"dataframe\">\n",
       "  <thead>\n",
       "    <tr style=\"text-align: right;\">\n",
       "      <th>Program and Source</th>\n",
       "      <th>Old-Age and Survivors Insurance (OASI)</th>\n",
       "      <th>OASI_Employer</th>\n",
       "      <th>OASI_Employee</th>\n",
       "      <th>OASI_Self-employed</th>\n",
       "      <th>OASI_General Fund Reimbursement</th>\n",
       "      <th>OASI_Taxation of benefits</th>\n",
       "      <th>Disability Insurance (DI)</th>\n",
       "      <th>DI_Employer</th>\n",
       "      <th>DI_Employee</th>\n",
       "      <th>DI_Self-employed</th>\n",
       "      <th>DI_General Fund Reimbursement</th>\n",
       "      <th>DI_Taxation of benefits</th>\n",
       "    </tr>\n",
       "  </thead>\n",
       "  <tbody>\n",
       "    <tr>\n",
       "      <th>2019</th>\n",
       "      <td>839992</td>\n",
       "      <td>384005</td>\n",
       "      <td>381121</td>\n",
       "      <td>39966</td>\n",
       "      <td>11</td>\n",
       "      <td>34890</td>\n",
       "      <td>140961</td>\n",
       "      <td>65906</td>\n",
       "      <td>65222</td>\n",
       "      <td>8249</td>\n",
       "      <td>2</td>\n",
       "      <td>1583</td>\n",
       "    </tr>\n",
       "    <tr>\n",
       "      <th>2020</th>\n",
       "      <td>895014</td>\n",
       "      <td>408227</td>\n",
       "      <td>404962</td>\n",
       "      <td>42791</td>\n",
       "      <td>3</td>\n",
       "      <td>39032</td>\n",
       "      <td>146997</td>\n",
       "      <td>69299</td>\n",
       "      <td>68747</td>\n",
       "      <td>7247</td>\n",
       "      <td>b</td>\n",
       "      <td>1704</td>\n",
       "    </tr>\n",
       "    <tr>\n",
       "      <th>2021</th>\n",
       "      <td>875387</td>\n",
       "      <td>398575</td>\n",
       "      <td>395425</td>\n",
       "      <td>44235</td>\n",
       "      <td>1</td>\n",
       "      <td>37151</td>\n",
       "      <td>142826</td>\n",
       "      <td>67677</td>\n",
       "      <td>67143</td>\n",
       "      <td>7547</td>\n",
       "      <td>b</td>\n",
       "      <td>459</td>\n",
       "    </tr>\n",
       "    <tr>\n",
       "      <th>2022</th>\n",
       "      <td>992996</td>\n",
       "      <td>452446</td>\n",
       "      <td>448042</td>\n",
       "      <td>45436</td>\n",
       "      <td>b</td>\n",
       "      <td>47071</td>\n",
       "      <td>162231</td>\n",
       "      <td>76842</td>\n",
       "      <td>76096</td>\n",
       "      <td>7740</td>\n",
       "      <td>b</td>\n",
       "      <td>1553</td>\n",
       "    </tr>\n",
       "    <tr>\n",
       "      <th>2023</th>\n",
       "      <td>1103842</td>\n",
       "      <td>503960</td>\n",
       "      <td>498593</td>\n",
       "      <td>51524</td>\n",
       "      <td>b</td>\n",
       "      <td>49764</td>\n",
       "      <td>179972</td>\n",
       "      <td>85582</td>\n",
       "      <td>84671</td>\n",
       "      <td>8770</td>\n",
       "      <td>b</td>\n",
       "      <td>950</td>\n",
       "    </tr>\n",
       "  </tbody>\n",
       "</table>\n",
       "</div>"
      ],
      "text/plain": [
       "Program and Source Old-Age and Survivors Insurance (OASI) OASI_Employer  \\\n",
       "2019                                               839992        384005   \n",
       "2020                                               895014        408227   \n",
       "2021                                               875387        398575   \n",
       "2022                                               992996        452446   \n",
       "2023                                              1103842        503960   \n",
       "\n",
       "Program and Source OASI_Employee OASI_Self-employed  \\\n",
       "2019                      381121              39966   \n",
       "2020                      404962              42791   \n",
       "2021                      395425              44235   \n",
       "2022                      448042              45436   \n",
       "2023                      498593              51524   \n",
       "\n",
       "Program and Source OASI_General Fund Reimbursement OASI_Taxation of benefits  \\\n",
       "2019                                            11                     34890   \n",
       "2020                                             3                     39032   \n",
       "2021                                             1                     37151   \n",
       "2022                                             b                     47071   \n",
       "2023                                             b                     49764   \n",
       "\n",
       "Program and Source Disability Insurance (DI) DI_Employer DI_Employee  \\\n",
       "2019                                  140961       65906       65222   \n",
       "2020                                  146997       69299       68747   \n",
       "2021                                  142826       67677       67143   \n",
       "2022                                  162231       76842       76096   \n",
       "2023                                  179972       85582       84671   \n",
       "\n",
       "Program and Source DI_Self-employed DI_General Fund Reimbursement  \\\n",
       "2019                           8249                             2   \n",
       "2020                           7247                             b   \n",
       "2021                           7547                             b   \n",
       "2022                           7740                             b   \n",
       "2023                           8770                             b   \n",
       "\n",
       "Program and Source DI_Taxation of benefits  \n",
       "2019                                  1583  \n",
       "2020                                  1704  \n",
       "2021                                   459  \n",
       "2022                                  1553  \n",
       "2023                                   950  "
      ]
     },
     "execution_count": 209,
     "metadata": {},
     "output_type": "execute_result"
    }
   ],
   "source": [
    "df_fica.tail()"
   ]
  },
  {
   "cell_type": "code",
   "execution_count": 213,
   "id": "37690d62-386f-4049-86ab-3faef2646910",
   "metadata": {},
   "outputs": [],
   "source": [
    "df_fica[\"tot\"] = df_fica[\"OASI_Employer\"]+df_fica[\"OASI_Employee\"]+df_fica[\"OASI_Self-employed\"]+df_fica[\"DI_Employer\"]+df_fica[\"DI_Employee\"]+df_fica[\"DI_Self-employed\"]\n",
    "df_fica[\"Employer_Employee\"] = (df_fica[\"OASI_Employer\"]+df_fica[\"OASI_Employee\"]+df_fica[\"DI_Employer\"]+df_fica[\"DI_Employee\"])/df_fica[\"tot\"]\n",
    "df_fica[\"self_employ\"] = (df_fica[\"OASI_Self-employed\"]+df_fica[\"DI_Self-employed\"])/df_fica[\"tot\"]"
   ]
  },
  {
   "cell_type": "code",
   "execution_count": 245,
   "id": "fce29461-32b2-428d-9ff9-bf2f7cbf9e03",
   "metadata": {},
   "outputs": [],
   "source": [
    "df_ben = pd.read_excel(\"SS_Data_by_Type_of_Beneficiary2.xlsx\")\n",
    "df_ben.rename(columns={ df_ben.columns[0]: \"Year\" }, inplace = True)"
   ]
  },
  {
   "cell_type": "code",
   "execution_count": 457,
   "id": "aca01341-4750-405e-bf0f-d9d5a5074d88",
   "metadata": {},
   "outputs": [
    {
     "data": {
      "text/plain": [
       "Index(['Year', 'Retired_Worker_Total_Amount',\n",
       "       'Retired_Worker_Total_Average_Amount', 'Retired_Worker_Male_Number',\n",
       "       'Retired_Worker_Male_Average_Amount',\n",
       "       'Retired_Worker_Male_Female_Number',\n",
       "       'Retired_Worker_Female_Average_Amount',\n",
       "       'Spouse_of_Retired_Worker_Total_Number',\n",
       "       'Spouse_of_Retired_Worker_Total_Average_Amount',\n",
       "       'Spouse_of_Retired_Worker_Male_Number',\n",
       "       'Spouse_of_Retired_Worker_Male_Average_Amount',\n",
       "       'Spouse_of_Retired_Worker_Female_Number',\n",
       "       'Spouse_of_Retired_Worker_Female_Average_Amount',\n",
       "       'Child_Of_Retired_Worker_Total_Number',\n",
       "       'Child_Of_Retired_Worker_Total_Average_Amount',\n",
       "       'Child_Of_Retired_Worker_Minor_Number',\n",
       "       'Child_Of_Retired_Worker_Minor_Average_Amount',\n",
       "       'Child_Of_Retired_Worker_Disabled_Number',\n",
       "       'Child_Of_Retired_Worker_Disabled_Average_Amount',\n",
       "       'Child_Of_Retired_Worker_Student_Number',\n",
       "       'Child_Of_Retired_Worker_Student_Average_Amount',\n",
       "       'Child_Of_Deceased_Worker_Total_Number',\n",
       "       'Child_Of_Deceased_Worker_Total_Average_Amount',\n",
       "       'Child_Of_Deceased_Worker_Minor_Number',\n",
       "       'Child_Of_Deceased_Worker_Minor_Average_Amount',\n",
       "       'Child_Of_Deceased_Worker_Disabled_Number',\n",
       "       'Child_Of_Deceased_Worker_Disabled_Average_Amount',\n",
       "       'Child_Of_Deceased_Worker_Student_Number',\n",
       "       'Child_Of_Deceased_Worker_Student_Average_Amount',\n",
       "       'Aged_Widower_Total_Number', 'Aged_Widower_Total_Average_Amount',\n",
       "       'Aged_Widower_Male_Number', 'Aged_Widower_Male_Average_Amount',\n",
       "       'Aged_Widower_Female_Number', 'Aged_Widower_Female_Average_Amount',\n",
       "       'Young_Widower_With_Child_In_Care_Total_Number',\n",
       "       'Young_Widower_With_Child_In_Care_Total_Average_Amount',\n",
       "       'Young_Widower_With_Child_In_Care_Male_Number',\n",
       "       'Young_Widower_With_Child_In_Care_Male_Average_Amount',\n",
       "       'Young_Widower_With_Child_In_Care_Female_Number',\n",
       "       'Young_Widower_With_Child_In_Care_Female_Average_Amount',\n",
       "       'Disabled_Widower_Total_Number',\n",
       "       'Disabled_Widower_Total_Average_Amount', 'Disabled_Widower_Male_Number',\n",
       "       'Disabled_Widower_Male_Average_Amount',\n",
       "       'Disabled_Widower_Female_Number',\n",
       "       'Disabled_Widower_Female_Average_Amount',\n",
       "       'Parent_Of_Deceased_Worker_Total_Number',\n",
       "       'Parent_Of_Deceased_Worker_Total_Average_Amount',\n",
       "       'Parent_Of_Deceased_Worker_Male_Number',\n",
       "       'Parent_Of_Deceased_Worker_Male_Average_Amount',\n",
       "       'Parent_Of_Deceased_Worker_Female_Number',\n",
       "       'Parent_Of_Deceased_Worker_Female_Average_Amount',\n",
       "       'Disabled_Worker_Total_Number', 'Disabled_Worker_Total_Average_Amount',\n",
       "       'Disabled_Worker_Male_Number', 'Disabled_Worker_Male_Average_Amount',\n",
       "       'Disabled_Worker_Female_Number',\n",
       "       'Disabled_Worker_Female_Average_Amount',\n",
       "       'Spouse_Of_Disabled_Worker_Total_Number',\n",
       "       'Spouse_Of_Disabled_Worker_Total_Average_Amount',\n",
       "       'Spouse_Of_Disabled_Worker_Male_Number',\n",
       "       'Spouse_Of_Disabled_Worker_Male_Average_Amount',\n",
       "       'Spouse_Of_Disabled_Worker_Female_Number',\n",
       "       'Spouse_Of_Disabled_Worker_Female_Average_Amount',\n",
       "       'Child_Of_Disabled_Worker_Total_Number',\n",
       "       'Child_Of_Disabled_Worker_Total_Average_Amount',\n",
       "       'Child_Of_Disabled_Worker_Minor_Number',\n",
       "       'Child_Of_Disabled_Worker_Minor_Average_Amount',\n",
       "       'Child_Of_Disabled_Worker_Disabled_Number',\n",
       "       'Child_Of_Disabled_Worker_Disabled_Average_Amount',\n",
       "       'Child_Of_Disabled_Worker_Student_Number',\n",
       "       'Child_Of_Disabled_Worker_Student_Average_Amount'],\n",
       "      dtype='object')"
      ]
     },
     "execution_count": 457,
     "metadata": {},
     "output_type": "execute_result"
    }
   ],
   "source": [
    "df_ben.columns"
   ]
  },
  {
   "cell_type": "code",
   "execution_count": 519,
   "id": "fb13b9a9-82c5-427c-bccc-8f9fd585577a",
   "metadata": {},
   "outputs": [],
   "source": [
    "df_ben_year = df_ben.groupby(df_ben['Year'].dt.year).apply(lambda x: x.iloc[:, 1:].sum())\n",
    "def extract_beneficiary_type(specified_beneficiary):\n",
    "    x = df_ben_year.columns.str.startswith(specified_beneficiary) #gets the columns in an index with T and F\n",
    "    #x[0] = True #makes the date column from False to True\n",
    "    df_return = df_ben_year[df_ben_year.columns[x]]\n",
    "    return df_return\n",
    "\n",
    "beneficiary_types_ls = [\n",
    "    \n",
    "    \"Retired_Worker\", #0 - ret work\n",
    "    \"Spouse_of_Retired_Worker\", #1 - ret work\n",
    "    \"Child_Of_Retired_Worker\", #2 - ret work\n",
    "    \"Child_Of_Deceased_Worker\", #surv - 3\n",
    "    \"Aged_Widower\",#surv\n",
    "    \"Young_Widower_With_Child_In_Care\",#surv\n",
    "    \"Disabled_Widower\",#surv\n",
    "    \"Parent_Of_Deceased_Worker\",#surv -7\n",
    "    \"Disabled_Worker\", #dis - 8\n",
    "    \"Spouse_Of_Disabled_Worker\",\n",
    "    \"Child_Of_Disabled_Worker\" #dis - 10\n",
    "]\n"
   ]
  },
  {
   "cell_type": "code",
   "execution_count": 523,
   "id": "8671625d-dd2a-45ff-a808-a205de78c611",
   "metadata": {},
   "outputs": [],
   "source": [
    "retired_workers_category = extract_beneficiary_type(beneficiary_types_ls[0]).sum(axis = 1) + \\\n",
    "    extract_beneficiary_type(beneficiary_types_ls[1]).sum(axis = 1) + \\\n",
    "    extract_beneficiary_type(beneficiary_types_ls[2]).sum(axis = 1)\n",
    "\n",
    "survivors_category = extract_beneficiary_type(beneficiary_types_ls[3]).sum(axis = 1) + \\\n",
    "    extract_beneficiary_type(beneficiary_types_ls[4]).sum(axis = 1) + \\\n",
    "    extract_beneficiary_type(beneficiary_types_ls[5]).sum(axis = 1) + \\\n",
    "    extract_beneficiary_type(beneficiary_types_ls[6]).sum(axis = 1) + \\\n",
    "    extract_beneficiary_type(beneficiary_types_ls[7]).sum(axis = 1)\n",
    "\n",
    "disabled_category = extract_beneficiary_type(beneficiary_types_ls[8]).sum(axis = 1) + \\\n",
    "    extract_beneficiary_type(beneficiary_types_ls[9]).sum(axis = 1) + \\\n",
    "    extract_beneficiary_type(beneficiary_types_ls[10]).sum(axis = 1)\n",
    "\n",
    "tot = df_ben_year[:].sum(axis = 1)\n",
    "\n",
    "df_ben_year[\"Retired_prop\"] = retired_workers_category/tot\n",
    "df_ben_year[\"Survivors_prop\"] = survivors_category/tot\n",
    "df_ben_year[\"Disabled_prop\"] = disabled_category/tot"
   ]
  },
  {
   "cell_type": "code",
   "execution_count": 535,
   "id": "089247ac-bf41-4ee3-b9e2-2dd16d32fc3a",
   "metadata": {},
   "outputs": [
    {
     "data": {
      "text/html": [
       "<div>\n",
       "<style scoped>\n",
       "    .dataframe tbody tr th:only-of-type {\n",
       "        vertical-align: middle;\n",
       "    }\n",
       "\n",
       "    .dataframe tbody tr th {\n",
       "        vertical-align: top;\n",
       "    }\n",
       "\n",
       "    .dataframe thead th {\n",
       "        text-align: right;\n",
       "    }\n",
       "</style>\n",
       "<table border=\"1\" class=\"dataframe\">\n",
       "  <thead>\n",
       "    <tr style=\"text-align: right;\">\n",
       "      <th></th>\n",
       "      <th>Retired_Worker_Total_Amount</th>\n",
       "      <th>Retired_Worker_Total_Average_Amount</th>\n",
       "      <th>Retired_Worker_Male_Number</th>\n",
       "      <th>Retired_Worker_Male_Average_Amount</th>\n",
       "      <th>Retired_Worker_Male_Female_Number</th>\n",
       "      <th>Retired_Worker_Female_Average_Amount</th>\n",
       "      <th>Spouse_of_Retired_Worker_Total_Number</th>\n",
       "      <th>Spouse_of_Retired_Worker_Total_Average_Amount</th>\n",
       "      <th>Spouse_of_Retired_Worker_Male_Number</th>\n",
       "      <th>Spouse_of_Retired_Worker_Male_Average_Amount</th>\n",
       "      <th>...</th>\n",
       "      <th>Child_Of_Disabled_Worker_Total_Average_Amount</th>\n",
       "      <th>Child_Of_Disabled_Worker_Minor_Number</th>\n",
       "      <th>Child_Of_Disabled_Worker_Minor_Average_Amount</th>\n",
       "      <th>Child_Of_Disabled_Worker_Disabled_Number</th>\n",
       "      <th>Child_Of_Disabled_Worker_Disabled_Average_Amount</th>\n",
       "      <th>Child_Of_Disabled_Worker_Student_Number</th>\n",
       "      <th>Child_Of_Disabled_Worker_Student_Average_Amount</th>\n",
       "      <th>Retired_prop</th>\n",
       "      <th>Survivors_prop</th>\n",
       "      <th>Disabled_prop</th>\n",
       "    </tr>\n",
       "    <tr>\n",
       "      <th>Year</th>\n",
       "      <th></th>\n",
       "      <th></th>\n",
       "      <th></th>\n",
       "      <th></th>\n",
       "      <th></th>\n",
       "      <th></th>\n",
       "      <th></th>\n",
       "      <th></th>\n",
       "      <th></th>\n",
       "      <th></th>\n",
       "      <th></th>\n",
       "      <th></th>\n",
       "      <th></th>\n",
       "      <th></th>\n",
       "      <th></th>\n",
       "      <th></th>\n",
       "      <th></th>\n",
       "      <th></th>\n",
       "      <th></th>\n",
       "      <th></th>\n",
       "      <th></th>\n",
       "    </tr>\n",
       "  </thead>\n",
       "  <tbody>\n",
       "    <tr>\n",
       "      <th>2020</th>\n",
       "      <td>550362369.0</td>\n",
       "      <td>18200.02</td>\n",
       "      <td>272712349.0</td>\n",
       "      <td>20218.00</td>\n",
       "      <td>277650020.0</td>\n",
       "      <td>16217.90</td>\n",
       "      <td>28614834.0</td>\n",
       "      <td>9449.72</td>\n",
       "      <td>2460381.0</td>\n",
       "      <td>8098.04</td>\n",
       "      <td>...</td>\n",
       "      <td>4709.07</td>\n",
       "      <td>14954476.0</td>\n",
       "      <td>4505.06</td>\n",
       "      <td>1472277.0</td>\n",
       "      <td>6218.99</td>\n",
       "      <td>457257.0</td>\n",
       "      <td>6514.07</td>\n",
       "      <td>0.757121</td>\n",
       "      <td>0.091278</td>\n",
       "      <td>0.151601</td>\n",
       "    </tr>\n",
       "    <tr>\n",
       "      <th>2021</th>\n",
       "      <td>561644248.0</td>\n",
       "      <td>18766.41</td>\n",
       "      <td>276856558.0</td>\n",
       "      <td>20818.33</td>\n",
       "      <td>284787690.0</td>\n",
       "      <td>16771.64</td>\n",
       "      <td>26823691.0</td>\n",
       "      <td>9589.24</td>\n",
       "      <td>2209496.0</td>\n",
       "      <td>8113.56</td>\n",
       "      <td>...</td>\n",
       "      <td>4843.77</td>\n",
       "      <td>13801333.0</td>\n",
       "      <td>4633.23</td>\n",
       "      <td>1416083.0</td>\n",
       "      <td>6358.86</td>\n",
       "      <td>392405.0</td>\n",
       "      <td>6766.56</td>\n",
       "      <td>0.764448</td>\n",
       "      <td>0.090270</td>\n",
       "      <td>0.145282</td>\n",
       "    </tr>\n",
       "    <tr>\n",
       "      <th>2022</th>\n",
       "      <td>575858275.0</td>\n",
       "      <td>20189.54</td>\n",
       "      <td>282556885.0</td>\n",
       "      <td>22364.30</td>\n",
       "      <td>293301390.0</td>\n",
       "      <td>18094.48</td>\n",
       "      <td>25019230.0</td>\n",
       "      <td>10087.33</td>\n",
       "      <td>1859056.0</td>\n",
       "      <td>8227.78</td>\n",
       "      <td>...</td>\n",
       "      <td>5204.97</td>\n",
       "      <td>12586558.0</td>\n",
       "      <td>4975.46</td>\n",
       "      <td>1344564.0</td>\n",
       "      <td>6803.83</td>\n",
       "      <td>358507.0</td>\n",
       "      <td>7229.36</td>\n",
       "      <td>0.772933</td>\n",
       "      <td>0.089444</td>\n",
       "      <td>0.137623</td>\n",
       "    </tr>\n",
       "    <tr>\n",
       "      <th>2023</th>\n",
       "      <td>594198542.0</td>\n",
       "      <td>22114.49</td>\n",
       "      <td>290535262.0</td>\n",
       "      <td>24464.59</td>\n",
       "      <td>303663280.0</td>\n",
       "      <td>19865.94</td>\n",
       "      <td>23456487.0</td>\n",
       "      <td>10735.55</td>\n",
       "      <td>1487483.0</td>\n",
       "      <td>8030.71</td>\n",
       "      <td>...</td>\n",
       "      <td>5699.33</td>\n",
       "      <td>11557706.0</td>\n",
       "      <td>5444.96</td>\n",
       "      <td>1284242.0</td>\n",
       "      <td>7410.53</td>\n",
       "      <td>339260.0</td>\n",
       "      <td>7859.11</td>\n",
       "      <td>0.782309</td>\n",
       "      <td>0.087738</td>\n",
       "      <td>0.129953</td>\n",
       "    </tr>\n",
       "    <tr>\n",
       "      <th>2024</th>\n",
       "      <td>458734611.0</td>\n",
       "      <td>17244.72</td>\n",
       "      <td>223789210.0</td>\n",
       "      <td>19058.20</td>\n",
       "      <td>234945401.0</td>\n",
       "      <td>15517.36</td>\n",
       "      <td>16925216.0</td>\n",
       "      <td>8198.69</td>\n",
       "      <td>984475.0</td>\n",
       "      <td>5693.55</td>\n",
       "      <td>...</td>\n",
       "      <td>4438.55</td>\n",
       "      <td>8099324.0</td>\n",
       "      <td>4234.46</td>\n",
       "      <td>947592.0</td>\n",
       "      <td>5735.56</td>\n",
       "      <td>253542.0</td>\n",
       "      <td>6066.41</td>\n",
       "      <td>0.790277</td>\n",
       "      <td>0.085938</td>\n",
       "      <td>0.123785</td>\n",
       "    </tr>\n",
       "  </tbody>\n",
       "</table>\n",
       "<p>5 rows × 75 columns</p>\n",
       "</div>"
      ],
      "text/plain": [
       "      Retired_Worker_Total_Amount  Retired_Worker_Total_Average_Amount  \\\n",
       "Year                                                                     \n",
       "2020                  550362369.0                             18200.02   \n",
       "2021                  561644248.0                             18766.41   \n",
       "2022                  575858275.0                             20189.54   \n",
       "2023                  594198542.0                             22114.49   \n",
       "2024                  458734611.0                             17244.72   \n",
       "\n",
       "      Retired_Worker_Male_Number  Retired_Worker_Male_Average_Amount  \\\n",
       "Year                                                                   \n",
       "2020                 272712349.0                            20218.00   \n",
       "2021                 276856558.0                            20818.33   \n",
       "2022                 282556885.0                            22364.30   \n",
       "2023                 290535262.0                            24464.59   \n",
       "2024                 223789210.0                            19058.20   \n",
       "\n",
       "      Retired_Worker_Male_Female_Number  Retired_Worker_Female_Average_Amount  \\\n",
       "Year                                                                            \n",
       "2020                        277650020.0                              16217.90   \n",
       "2021                        284787690.0                              16771.64   \n",
       "2022                        293301390.0                              18094.48   \n",
       "2023                        303663280.0                              19865.94   \n",
       "2024                        234945401.0                              15517.36   \n",
       "\n",
       "      Spouse_of_Retired_Worker_Total_Number  \\\n",
       "Year                                          \n",
       "2020                             28614834.0   \n",
       "2021                             26823691.0   \n",
       "2022                             25019230.0   \n",
       "2023                             23456487.0   \n",
       "2024                             16925216.0   \n",
       "\n",
       "      Spouse_of_Retired_Worker_Total_Average_Amount  \\\n",
       "Year                                                  \n",
       "2020                                        9449.72   \n",
       "2021                                        9589.24   \n",
       "2022                                       10087.33   \n",
       "2023                                       10735.55   \n",
       "2024                                        8198.69   \n",
       "\n",
       "      Spouse_of_Retired_Worker_Male_Number  \\\n",
       "Year                                         \n",
       "2020                             2460381.0   \n",
       "2021                             2209496.0   \n",
       "2022                             1859056.0   \n",
       "2023                             1487483.0   \n",
       "2024                              984475.0   \n",
       "\n",
       "      Spouse_of_Retired_Worker_Male_Average_Amount  ...  \\\n",
       "Year                                                ...   \n",
       "2020                                       8098.04  ...   \n",
       "2021                                       8113.56  ...   \n",
       "2022                                       8227.78  ...   \n",
       "2023                                       8030.71  ...   \n",
       "2024                                       5693.55  ...   \n",
       "\n",
       "      Child_Of_Disabled_Worker_Total_Average_Amount  \\\n",
       "Year                                                  \n",
       "2020                                        4709.07   \n",
       "2021                                        4843.77   \n",
       "2022                                        5204.97   \n",
       "2023                                        5699.33   \n",
       "2024                                        4438.55   \n",
       "\n",
       "      Child_Of_Disabled_Worker_Minor_Number  \\\n",
       "Year                                          \n",
       "2020                             14954476.0   \n",
       "2021                             13801333.0   \n",
       "2022                             12586558.0   \n",
       "2023                             11557706.0   \n",
       "2024                              8099324.0   \n",
       "\n",
       "      Child_Of_Disabled_Worker_Minor_Average_Amount  \\\n",
       "Year                                                  \n",
       "2020                                        4505.06   \n",
       "2021                                        4633.23   \n",
       "2022                                        4975.46   \n",
       "2023                                        5444.96   \n",
       "2024                                        4234.46   \n",
       "\n",
       "      Child_Of_Disabled_Worker_Disabled_Number  \\\n",
       "Year                                             \n",
       "2020                                 1472277.0   \n",
       "2021                                 1416083.0   \n",
       "2022                                 1344564.0   \n",
       "2023                                 1284242.0   \n",
       "2024                                  947592.0   \n",
       "\n",
       "      Child_Of_Disabled_Worker_Disabled_Average_Amount  \\\n",
       "Year                                                     \n",
       "2020                                           6218.99   \n",
       "2021                                           6358.86   \n",
       "2022                                           6803.83   \n",
       "2023                                           7410.53   \n",
       "2024                                           5735.56   \n",
       "\n",
       "      Child_Of_Disabled_Worker_Student_Number  \\\n",
       "Year                                            \n",
       "2020                                 457257.0   \n",
       "2021                                 392405.0   \n",
       "2022                                 358507.0   \n",
       "2023                                 339260.0   \n",
       "2024                                 253542.0   \n",
       "\n",
       "      Child_Of_Disabled_Worker_Student_Average_Amount  Retired_prop  \\\n",
       "Year                                                                  \n",
       "2020                                          6514.07      0.757121   \n",
       "2021                                          6766.56      0.764448   \n",
       "2022                                          7229.36      0.772933   \n",
       "2023                                          7859.11      0.782309   \n",
       "2024                                          6066.41      0.790277   \n",
       "\n",
       "      Survivors_prop  Disabled_prop  \n",
       "Year                                 \n",
       "2020        0.091278       0.151601  \n",
       "2021        0.090270       0.145282  \n",
       "2022        0.089444       0.137623  \n",
       "2023        0.087738       0.129953  \n",
       "2024        0.085938       0.123785  \n",
       "\n",
       "[5 rows x 75 columns]"
      ]
     },
     "execution_count": 535,
     "metadata": {},
     "output_type": "execute_result"
    }
   ],
   "source": [
    "df_ben_year.tail()"
   ]
  },
  {
   "cell_type": "code",
   "execution_count": 545,
   "id": "f45750c3-b734-48f8-9e34-569836428cd4",
   "metadata": {},
   "outputs": [
    {
     "data": {
      "text/plain": [
       "Program and Source\n",
       "Old-Age and Survivors Insurance (OASI)      710334\n",
       "OASI_Employer                               322395\n",
       "OASI_Employee                               319939\n",
       "OASI_Self-employed                           37169\n",
       "OASI_General Fund Reimbursement                278\n",
       "OASI_Taxation of benefits                    30554\n",
       "Disability Insurance (DI)                   116508\n",
       "DI_Employer                                  54747\n",
       "DI_Employee                                  54330\n",
       "DI_Self-employed                              6312\n",
       "DI_General Fund Reimbursement                   47\n",
       "DI_Taxation of benefits                       1071\n",
       "tot                                         794892\n",
       "Employer_Employee                         0.945299\n",
       "self_employ                               0.054701\n",
       "Name: 2015, dtype: object"
      ]
     },
     "execution_count": 545,
     "metadata": {},
     "output_type": "execute_result"
    }
   ],
   "source": []
  },
  {
   "cell_type": "code",
   "execution_count": 669,
   "id": "a4ee9b2e-86a9-456c-aec6-76fc617f1a1e",
   "metadata": {},
   "outputs": [
    {
     "data": {
      "application/vnd.plotly.v1+json": {
       "config": {
        "plotlyServerURL": "https://plot.ly"
       },
       "data": [
        {
         "link": {
          "color": "gray",
          "source": [
           0,
           1,
           2,
           2,
           3,
           3,
           4,
           4,
           4
          ],
          "target": [
           2,
           2,
           3,
           9,
           4,
           8,
           6,
           5,
           7
          ],
          "value": [
           95.11037223258454,
           4.8896277674154565,
           87.00468308969988,
           12.995316910300136,
           68.06453861267813,
           18.940144477021747,
           54.48,
           9.534,
           4.085999999999999
          ]
         },
         "node": {
          "color": "blue",
          "label": [
           "Employer + Employee 6.2% FICA",
           "Self-employed 14.2% FICA",
           "Social Security Trust Fund",
           "Retirement (OASI)",
           "Retired Workers",
           "Normal Retirement (≈66)",
           "Early Retirement (< 66)",
           "Delayed Retirement (> 70)",
           "Survivors",
           "Disability Insurance (DI)"
          ],
          "line": {
           "color": "black",
           "width": 0.5
          },
          "pad": 40,
          "thickness": 20,
          "y": [
           0.85,
           0.85,
           0.6,
           0.75,
           0.5,
           0.35,
           0.35,
           0.35,
           0.25,
           0.2
          ]
         },
         "type": "sankey"
        }
       ],
       "layout": {
        "font": {
         "size": 10
        },
        "height": 600,
        "showlegend": false,
        "template": {
         "data": {
          "bar": [
           {
            "error_x": {
             "color": "#2a3f5f"
            },
            "error_y": {
             "color": "#2a3f5f"
            },
            "marker": {
             "line": {
              "color": "#E5ECF6",
              "width": 0.5
             },
             "pattern": {
              "fillmode": "overlay",
              "size": 10,
              "solidity": 0.2
             }
            },
            "type": "bar"
           }
          ],
          "barpolar": [
           {
            "marker": {
             "line": {
              "color": "#E5ECF6",
              "width": 0.5
             },
             "pattern": {
              "fillmode": "overlay",
              "size": 10,
              "solidity": 0.2
             }
            },
            "type": "barpolar"
           }
          ],
          "carpet": [
           {
            "aaxis": {
             "endlinecolor": "#2a3f5f",
             "gridcolor": "white",
             "linecolor": "white",
             "minorgridcolor": "white",
             "startlinecolor": "#2a3f5f"
            },
            "baxis": {
             "endlinecolor": "#2a3f5f",
             "gridcolor": "white",
             "linecolor": "white",
             "minorgridcolor": "white",
             "startlinecolor": "#2a3f5f"
            },
            "type": "carpet"
           }
          ],
          "choropleth": [
           {
            "colorbar": {
             "outlinewidth": 0,
             "ticks": ""
            },
            "type": "choropleth"
           }
          ],
          "contour": [
           {
            "colorbar": {
             "outlinewidth": 0,
             "ticks": ""
            },
            "colorscale": [
             [
              0,
              "#0d0887"
             ],
             [
              0.1111111111111111,
              "#46039f"
             ],
             [
              0.2222222222222222,
              "#7201a8"
             ],
             [
              0.3333333333333333,
              "#9c179e"
             ],
             [
              0.4444444444444444,
              "#bd3786"
             ],
             [
              0.5555555555555556,
              "#d8576b"
             ],
             [
              0.6666666666666666,
              "#ed7953"
             ],
             [
              0.7777777777777778,
              "#fb9f3a"
             ],
             [
              0.8888888888888888,
              "#fdca26"
             ],
             [
              1,
              "#f0f921"
             ]
            ],
            "type": "contour"
           }
          ],
          "contourcarpet": [
           {
            "colorbar": {
             "outlinewidth": 0,
             "ticks": ""
            },
            "type": "contourcarpet"
           }
          ],
          "heatmap": [
           {
            "colorbar": {
             "outlinewidth": 0,
             "ticks": ""
            },
            "colorscale": [
             [
              0,
              "#0d0887"
             ],
             [
              0.1111111111111111,
              "#46039f"
             ],
             [
              0.2222222222222222,
              "#7201a8"
             ],
             [
              0.3333333333333333,
              "#9c179e"
             ],
             [
              0.4444444444444444,
              "#bd3786"
             ],
             [
              0.5555555555555556,
              "#d8576b"
             ],
             [
              0.6666666666666666,
              "#ed7953"
             ],
             [
              0.7777777777777778,
              "#fb9f3a"
             ],
             [
              0.8888888888888888,
              "#fdca26"
             ],
             [
              1,
              "#f0f921"
             ]
            ],
            "type": "heatmap"
           }
          ],
          "heatmapgl": [
           {
            "colorbar": {
             "outlinewidth": 0,
             "ticks": ""
            },
            "colorscale": [
             [
              0,
              "#0d0887"
             ],
             [
              0.1111111111111111,
              "#46039f"
             ],
             [
              0.2222222222222222,
              "#7201a8"
             ],
             [
              0.3333333333333333,
              "#9c179e"
             ],
             [
              0.4444444444444444,
              "#bd3786"
             ],
             [
              0.5555555555555556,
              "#d8576b"
             ],
             [
              0.6666666666666666,
              "#ed7953"
             ],
             [
              0.7777777777777778,
              "#fb9f3a"
             ],
             [
              0.8888888888888888,
              "#fdca26"
             ],
             [
              1,
              "#f0f921"
             ]
            ],
            "type": "heatmapgl"
           }
          ],
          "histogram": [
           {
            "marker": {
             "pattern": {
              "fillmode": "overlay",
              "size": 10,
              "solidity": 0.2
             }
            },
            "type": "histogram"
           }
          ],
          "histogram2d": [
           {
            "colorbar": {
             "outlinewidth": 0,
             "ticks": ""
            },
            "colorscale": [
             [
              0,
              "#0d0887"
             ],
             [
              0.1111111111111111,
              "#46039f"
             ],
             [
              0.2222222222222222,
              "#7201a8"
             ],
             [
              0.3333333333333333,
              "#9c179e"
             ],
             [
              0.4444444444444444,
              "#bd3786"
             ],
             [
              0.5555555555555556,
              "#d8576b"
             ],
             [
              0.6666666666666666,
              "#ed7953"
             ],
             [
              0.7777777777777778,
              "#fb9f3a"
             ],
             [
              0.8888888888888888,
              "#fdca26"
             ],
             [
              1,
              "#f0f921"
             ]
            ],
            "type": "histogram2d"
           }
          ],
          "histogram2dcontour": [
           {
            "colorbar": {
             "outlinewidth": 0,
             "ticks": ""
            },
            "colorscale": [
             [
              0,
              "#0d0887"
             ],
             [
              0.1111111111111111,
              "#46039f"
             ],
             [
              0.2222222222222222,
              "#7201a8"
             ],
             [
              0.3333333333333333,
              "#9c179e"
             ],
             [
              0.4444444444444444,
              "#bd3786"
             ],
             [
              0.5555555555555556,
              "#d8576b"
             ],
             [
              0.6666666666666666,
              "#ed7953"
             ],
             [
              0.7777777777777778,
              "#fb9f3a"
             ],
             [
              0.8888888888888888,
              "#fdca26"
             ],
             [
              1,
              "#f0f921"
             ]
            ],
            "type": "histogram2dcontour"
           }
          ],
          "mesh3d": [
           {
            "colorbar": {
             "outlinewidth": 0,
             "ticks": ""
            },
            "type": "mesh3d"
           }
          ],
          "parcoords": [
           {
            "line": {
             "colorbar": {
              "outlinewidth": 0,
              "ticks": ""
             }
            },
            "type": "parcoords"
           }
          ],
          "pie": [
           {
            "automargin": true,
            "type": "pie"
           }
          ],
          "scatter": [
           {
            "fillpattern": {
             "fillmode": "overlay",
             "size": 10,
             "solidity": 0.2
            },
            "type": "scatter"
           }
          ],
          "scatter3d": [
           {
            "line": {
             "colorbar": {
              "outlinewidth": 0,
              "ticks": ""
             }
            },
            "marker": {
             "colorbar": {
              "outlinewidth": 0,
              "ticks": ""
             }
            },
            "type": "scatter3d"
           }
          ],
          "scattercarpet": [
           {
            "marker": {
             "colorbar": {
              "outlinewidth": 0,
              "ticks": ""
             }
            },
            "type": "scattercarpet"
           }
          ],
          "scattergeo": [
           {
            "marker": {
             "colorbar": {
              "outlinewidth": 0,
              "ticks": ""
             }
            },
            "type": "scattergeo"
           }
          ],
          "scattergl": [
           {
            "marker": {
             "colorbar": {
              "outlinewidth": 0,
              "ticks": ""
             }
            },
            "type": "scattergl"
           }
          ],
          "scattermapbox": [
           {
            "marker": {
             "colorbar": {
              "outlinewidth": 0,
              "ticks": ""
             }
            },
            "type": "scattermapbox"
           }
          ],
          "scatterpolar": [
           {
            "marker": {
             "colorbar": {
              "outlinewidth": 0,
              "ticks": ""
             }
            },
            "type": "scatterpolar"
           }
          ],
          "scatterpolargl": [
           {
            "marker": {
             "colorbar": {
              "outlinewidth": 0,
              "ticks": ""
             }
            },
            "type": "scatterpolargl"
           }
          ],
          "scatterternary": [
           {
            "marker": {
             "colorbar": {
              "outlinewidth": 0,
              "ticks": ""
             }
            },
            "type": "scatterternary"
           }
          ],
          "surface": [
           {
            "colorbar": {
             "outlinewidth": 0,
             "ticks": ""
            },
            "colorscale": [
             [
              0,
              "#0d0887"
             ],
             [
              0.1111111111111111,
              "#46039f"
             ],
             [
              0.2222222222222222,
              "#7201a8"
             ],
             [
              0.3333333333333333,
              "#9c179e"
             ],
             [
              0.4444444444444444,
              "#bd3786"
             ],
             [
              0.5555555555555556,
              "#d8576b"
             ],
             [
              0.6666666666666666,
              "#ed7953"
             ],
             [
              0.7777777777777778,
              "#fb9f3a"
             ],
             [
              0.8888888888888888,
              "#fdca26"
             ],
             [
              1,
              "#f0f921"
             ]
            ],
            "type": "surface"
           }
          ],
          "table": [
           {
            "cells": {
             "fill": {
              "color": "#EBF0F8"
             },
             "line": {
              "color": "white"
             }
            },
            "header": {
             "fill": {
              "color": "#C8D4E3"
             },
             "line": {
              "color": "white"
             }
            },
            "type": "table"
           }
          ]
         },
         "layout": {
          "annotationdefaults": {
           "arrowcolor": "#2a3f5f",
           "arrowhead": 0,
           "arrowwidth": 1
          },
          "autotypenumbers": "strict",
          "coloraxis": {
           "colorbar": {
            "outlinewidth": 0,
            "ticks": ""
           }
          },
          "colorscale": {
           "diverging": [
            [
             0,
             "#8e0152"
            ],
            [
             0.1,
             "#c51b7d"
            ],
            [
             0.2,
             "#de77ae"
            ],
            [
             0.3,
             "#f1b6da"
            ],
            [
             0.4,
             "#fde0ef"
            ],
            [
             0.5,
             "#f7f7f7"
            ],
            [
             0.6,
             "#e6f5d0"
            ],
            [
             0.7,
             "#b8e186"
            ],
            [
             0.8,
             "#7fbc41"
            ],
            [
             0.9,
             "#4d9221"
            ],
            [
             1,
             "#276419"
            ]
           ],
           "sequential": [
            [
             0,
             "#0d0887"
            ],
            [
             0.1111111111111111,
             "#46039f"
            ],
            [
             0.2222222222222222,
             "#7201a8"
            ],
            [
             0.3333333333333333,
             "#9c179e"
            ],
            [
             0.4444444444444444,
             "#bd3786"
            ],
            [
             0.5555555555555556,
             "#d8576b"
            ],
            [
             0.6666666666666666,
             "#ed7953"
            ],
            [
             0.7777777777777778,
             "#fb9f3a"
            ],
            [
             0.8888888888888888,
             "#fdca26"
            ],
            [
             1,
             "#f0f921"
            ]
           ],
           "sequentialminus": [
            [
             0,
             "#0d0887"
            ],
            [
             0.1111111111111111,
             "#46039f"
            ],
            [
             0.2222222222222222,
             "#7201a8"
            ],
            [
             0.3333333333333333,
             "#9c179e"
            ],
            [
             0.4444444444444444,
             "#bd3786"
            ],
            [
             0.5555555555555556,
             "#d8576b"
            ],
            [
             0.6666666666666666,
             "#ed7953"
            ],
            [
             0.7777777777777778,
             "#fb9f3a"
            ],
            [
             0.8888888888888888,
             "#fdca26"
            ],
            [
             1,
             "#f0f921"
            ]
           ]
          },
          "colorway": [
           "#636efa",
           "#EF553B",
           "#00cc96",
           "#ab63fa",
           "#FFA15A",
           "#19d3f3",
           "#FF6692",
           "#B6E880",
           "#FF97FF",
           "#FECB52"
          ],
          "font": {
           "color": "#2a3f5f"
          },
          "geo": {
           "bgcolor": "white",
           "lakecolor": "white",
           "landcolor": "#E5ECF6",
           "showlakes": true,
           "showland": true,
           "subunitcolor": "white"
          },
          "hoverlabel": {
           "align": "left"
          },
          "hovermode": "closest",
          "mapbox": {
           "style": "light"
          },
          "paper_bgcolor": "white",
          "plot_bgcolor": "#E5ECF6",
          "polar": {
           "angularaxis": {
            "gridcolor": "white",
            "linecolor": "white",
            "ticks": ""
           },
           "bgcolor": "#E5ECF6",
           "radialaxis": {
            "gridcolor": "white",
            "linecolor": "white",
            "ticks": ""
           }
          },
          "scene": {
           "xaxis": {
            "backgroundcolor": "#E5ECF6",
            "gridcolor": "white",
            "gridwidth": 2,
            "linecolor": "white",
            "showbackground": true,
            "ticks": "",
            "zerolinecolor": "white"
           },
           "yaxis": {
            "backgroundcolor": "#E5ECF6",
            "gridcolor": "white",
            "gridwidth": 2,
            "linecolor": "white",
            "showbackground": true,
            "ticks": "",
            "zerolinecolor": "white"
           },
           "zaxis": {
            "backgroundcolor": "#E5ECF6",
            "gridcolor": "white",
            "gridwidth": 2,
            "linecolor": "white",
            "showbackground": true,
            "ticks": "",
            "zerolinecolor": "white"
           }
          },
          "shapedefaults": {
           "line": {
            "color": "#2a3f5f"
           }
          },
          "ternary": {
           "aaxis": {
            "gridcolor": "white",
            "linecolor": "white",
            "ticks": ""
           },
           "baxis": {
            "gridcolor": "white",
            "linecolor": "white",
            "ticks": ""
           },
           "bgcolor": "#E5ECF6",
           "caxis": {
            "gridcolor": "white",
            "linecolor": "white",
            "ticks": ""
           }
          },
          "title": {
           "x": 0.05
          },
          "xaxis": {
           "automargin": true,
           "gridcolor": "white",
           "linecolor": "white",
           "ticks": "",
           "title": {
            "standoff": 15
           },
           "zerolinecolor": "white",
           "zerolinewidth": 2
          },
          "yaxis": {
           "automargin": true,
           "gridcolor": "white",
           "linecolor": "white",
           "ticks": "",
           "title": {
            "standoff": 15
           },
           "zerolinecolor": "white",
           "zerolinewidth": 2
          }
         }
        },
        "title": {
         "text": "Social Security Fund Distribution"
        },
        "width": 1000
       }
      },
      "image/png": "[encoded data removed]",
      "text/html": [
       "<div>                            <div id=\"ba91089d-92e3-43b5-a252-9b35644cb4b3\" class=\"plotly-graph-div\" style=\"height:600px; width:1000px;\"></div>            <script type=\"text/javascript\">                require([\"plotly\"], function(Plotly) {                    window.PLOTLYENV=window.PLOTLYENV || {};                                    if (document.getElementById(\"ba91089d-92e3-43b5-a252-9b35644cb4b3\")) {                    Plotly.newPlot(                        \"ba91089d-92e3-43b5-a252-9b35644cb4b3\",                        [{\"link\":{\"color\":\"gray\",\"source\":[0,1,2,2,3,3,4,4,4],\"target\":[2,2,3,9,4,8,6,5,7],\"value\":[95.11037223258454,4.8896277674154565,87.00468308969988,12.995316910300136,68.06453861267813,18.940144477021747,54.48,9.534,4.085999999999999]},\"node\":{\"color\":\"blue\",\"label\":[\"Employer + Employee 6.2% FICA\",\"Self-employed 14.2% FICA\",\"Social Security Trust Fund\",\"Retirement (OASI)\",\"Retired Workers\",\"Normal Retirement (\\u224866)\",\"Early Retirement (\\u003c 66)\",\"Delayed Retirement (\\u003e 70)\",\"Survivors\",\"Disability Insurance (DI)\"],\"line\":{\"color\":\"black\",\"width\":0.5},\"pad\":40,\"thickness\":20,\"y\":[0.85,0.85,0.6,0.75,0.5,0.35,0.35,0.35,0.25,0.2]},\"type\":\"sankey\"}],                        {\"template\":{\"data\":{\"histogram2dcontour\":[{\"type\":\"histogram2dcontour\",\"colorbar\":{\"outlinewidth\":0,\"ticks\":\"\"},\"colorscale\":[[0.0,\"#0d0887\"],[0.1111111111111111,\"#46039f\"],[0.2222222222222222,\"#7201a8\"],[0.3333333333333333,\"#9c179e\"],[0.4444444444444444,\"#bd3786\"],[0.5555555555555556,\"#d8576b\"],[0.6666666666666666,\"#ed7953\"],[0.7777777777777778,\"#fb9f3a\"],[0.8888888888888888,\"#fdca26\"],[1.0,\"#f0f921\"]]}],\"choropleth\":[{\"type\":\"choropleth\",\"colorbar\":{\"outlinewidth\":0,\"ticks\":\"\"}}],\"histogram2d\":[{\"type\":\"histogram2d\",\"colorbar\":{\"outlinewidth\":0,\"ticks\":\"\"},\"colorscale\":[[0.0,\"#0d0887\"],[0.1111111111111111,\"#46039f\"],[0.2222222222222222,\"#7201a8\"],[0.3333333333333333,\"#9c179e\"],[0.4444444444444444,\"#bd3786\"],[0.5555555555555556,\"#d8576b\"],[0.6666666666666666,\"#ed7953\"],[0.7777777777777778,\"#fb9f3a\"],[0.8888888888888888,\"#fdca26\"],[1.0,\"#f0f921\"]]}],\"heatmap\":[{\"type\":\"heatmap\",\"colorbar\":{\"outlinewidth\":0,\"ticks\":\"\"},\"colorscale\":[[0.0,\"#0d0887\"],[0.1111111111111111,\"#46039f\"],[0.2222222222222222,\"#7201a8\"],[0.3333333333333333,\"#9c179e\"],[0.4444444444444444,\"#bd3786\"],[0.5555555555555556,\"#d8576b\"],[0.6666666666666666,\"#ed7953\"],[0.7777777777777778,\"#fb9f3a\"],[0.8888888888888888,\"#fdca26\"],[1.0,\"#f0f921\"]]}],\"heatmapgl\":[{\"type\":\"heatmapgl\",\"colorbar\":{\"outlinewidth\":0,\"ticks\":\"\"},\"colorscale\":[[0.0,\"#0d0887\"],[0.1111111111111111,\"#46039f\"],[0.2222222222222222,\"#7201a8\"],[0.3333333333333333,\"#9c179e\"],[0.4444444444444444,\"#bd3786\"],[0.5555555555555556,\"#d8576b\"],[0.6666666666666666,\"#ed7953\"],[0.7777777777777778,\"#fb9f3a\"],[0.8888888888888888,\"#fdca26\"],[1.0,\"#f0f921\"]]}],\"contourcarpet\":[{\"type\":\"contourcarpet\",\"colorbar\":{\"outlinewidth\":0,\"ticks\":\"\"}}],\"contour\":[{\"type\":\"contour\",\"colorbar\":{\"outlinewidth\":0,\"ticks\":\"\"},\"colorscale\":[[0.0,\"#0d0887\"],[0.1111111111111111,\"#46039f\"],[0.2222222222222222,\"#7201a8\"],[0.3333333333333333,\"#9c179e\"],[0.4444444444444444,\"#bd3786\"],[0.5555555555555556,\"#d8576b\"],[0.6666666666666666,\"#ed7953\"],[0.7777777777777778,\"#fb9f3a\"],[0.8888888888888888,\"#fdca26\"],[1.0,\"#f0f921\"]]}],\"surface\":[{\"type\":\"surface\",\"colorbar\":{\"outlinewidth\":0,\"ticks\":\"\"},\"colorscale\":[[0.0,\"#0d0887\"],[0.1111111111111111,\"#46039f\"],[0.2222222222222222,\"#7201a8\"],[0.3333333333333333,\"#9c179e\"],[0.4444444444444444,\"#bd3786\"],[0.5555555555555556,\"#d8576b\"],[0.6666666666666666,\"#ed7953\"],[0.7777777777777778,\"#fb9f3a\"],[0.8888888888888888,\"#fdca26\"],[1.0,\"#f0f921\"]]}],\"mesh3d\":[{\"type\":\"mesh3d\",\"colorbar\":{\"outlinewidth\":0,\"ticks\":\"\"}}],\"scatter\":[{\"fillpattern\":{\"fillmode\":\"overlay\",\"size\":10,\"solidity\":0.2},\"type\":\"scatter\"}],\"parcoords\":[{\"type\":\"parcoords\",\"line\":{\"colorbar\":{\"outlinewidth\":0,\"ticks\":\"\"}}}],\"scatterpolargl\":[{\"type\":\"scatterpolargl\",\"marker\":{\"colorbar\":{\"outlinewidth\":0,\"ticks\":\"\"}}}],\"bar\":[{\"error_x\":{\"color\":\"#2a3f5f\"},\"error_y\":{\"color\":\"#2a3f5f\"},\"marker\":{\"line\":{\"color\":\"#E5ECF6\",\"width\":0.5},\"pattern\":{\"fillmode\":\"overlay\",\"size\":10,\"solidity\":0.2}},\"type\":\"bar\"}],\"scattergeo\":[{\"type\":\"scattergeo\",\"marker\":{\"colorbar\":{\"outlinewidth\":0,\"ticks\":\"\"}}}],\"scatterpolar\":[{\"type\":\"scatterpolar\",\"marker\":{\"colorbar\":{\"outlinewidth\":0,\"ticks\":\"\"}}}],\"histogram\":[{\"marker\":{\"pattern\":{\"fillmode\":\"overlay\",\"size\":10,\"solidity\":0.2}},\"type\":\"histogram\"}],\"scattergl\":[{\"type\":\"scattergl\",\"marker\":{\"colorbar\":{\"outlinewidth\":0,\"ticks\":\"\"}}}],\"scatter3d\":[{\"type\":\"scatter3d\",\"line\":{\"colorbar\":{\"outlinewidth\":0,\"ticks\":\"\"}},\"marker\":{\"colorbar\":{\"outlinewidth\":0,\"ticks\":\"\"}}}],\"scattermapbox\":[{\"type\":\"scattermapbox\",\"marker\":{\"colorbar\":{\"outlinewidth\":0,\"ticks\":\"\"}}}],\"scatterternary\":[{\"type\":\"scatterternary\",\"marker\":{\"colorbar\":{\"outlinewidth\":0,\"ticks\":\"\"}}}],\"scattercarpet\":[{\"type\":\"scattercarpet\",\"marker\":{\"colorbar\":{\"outlinewidth\":0,\"ticks\":\"\"}}}],\"carpet\":[{\"aaxis\":{\"endlinecolor\":\"#2a3f5f\",\"gridcolor\":\"white\",\"linecolor\":\"white\",\"minorgridcolor\":\"white\",\"startlinecolor\":\"#2a3f5f\"},\"baxis\":{\"endlinecolor\":\"#2a3f5f\",\"gridcolor\":\"white\",\"linecolor\":\"white\",\"minorgridcolor\":\"white\",\"startlinecolor\":\"#2a3f5f\"},\"type\":\"carpet\"}],\"table\":[{\"cells\":{\"fill\":{\"color\":\"#EBF0F8\"},\"line\":{\"color\":\"white\"}},\"header\":{\"fill\":{\"color\":\"#C8D4E3\"},\"line\":{\"color\":\"white\"}},\"type\":\"table\"}],\"barpolar\":[{\"marker\":{\"line\":{\"color\":\"#E5ECF6\",\"width\":0.5},\"pattern\":{\"fillmode\":\"overlay\",\"size\":10,\"solidity\":0.2}},\"type\":\"barpolar\"}],\"pie\":[{\"automargin\":true,\"type\":\"pie\"}]},\"layout\":{\"autotypenumbers\":\"strict\",\"colorway\":[\"#636efa\",\"#EF553B\",\"#00cc96\",\"#ab63fa\",\"#FFA15A\",\"#19d3f3\",\"#FF6692\",\"#B6E880\",\"#FF97FF\",\"#FECB52\"],\"font\":{\"color\":\"#2a3f5f\"},\"hovermode\":\"closest\",\"hoverlabel\":{\"align\":\"left\"},\"paper_bgcolor\":\"white\",\"plot_bgcolor\":\"#E5ECF6\",\"polar\":{\"bgcolor\":\"#E5ECF6\",\"angularaxis\":{\"gridcolor\":\"white\",\"linecolor\":\"white\",\"ticks\":\"\"},\"radialaxis\":{\"gridcolor\":\"white\",\"linecolor\":\"white\",\"ticks\":\"\"}},\"ternary\":{\"bgcolor\":\"#E5ECF6\",\"aaxis\":{\"gridcolor\":\"white\",\"linecolor\":\"white\",\"ticks\":\"\"},\"baxis\":{\"gridcolor\":\"white\",\"linecolor\":\"white\",\"ticks\":\"\"},\"caxis\":{\"gridcolor\":\"white\",\"linecolor\":\"white\",\"ticks\":\"\"}},\"coloraxis\":{\"colorbar\":{\"outlinewidth\":0,\"ticks\":\"\"}},\"colorscale\":{\"sequential\":[[0.0,\"#0d0887\"],[0.1111111111111111,\"#46039f\"],[0.2222222222222222,\"#7201a8\"],[0.3333333333333333,\"#9c179e\"],[0.4444444444444444,\"#bd3786\"],[0.5555555555555556,\"#d8576b\"],[0.6666666666666666,\"#ed7953\"],[0.7777777777777778,\"#fb9f3a\"],[0.8888888888888888,\"#fdca26\"],[1.0,\"#f0f921\"]],\"sequentialminus\":[[0.0,\"#0d0887\"],[0.1111111111111111,\"#46039f\"],[0.2222222222222222,\"#7201a8\"],[0.3333333333333333,\"#9c179e\"],[0.4444444444444444,\"#bd3786\"],[0.5555555555555556,\"#d8576b\"],[0.6666666666666666,\"#ed7953\"],[0.7777777777777778,\"#fb9f3a\"],[0.8888888888888888,\"#fdca26\"],[1.0,\"#f0f921\"]],\"diverging\":[[0,\"#8e0152\"],[0.1,\"#c51b7d\"],[0.2,\"#de77ae\"],[0.3,\"#f1b6da\"],[0.4,\"#fde0ef\"],[0.5,\"#f7f7f7\"],[0.6,\"#e6f5d0\"],[0.7,\"#b8e186\"],[0.8,\"#7fbc41\"],[0.9,\"#4d9221\"],[1,\"#276419\"]]},\"xaxis\":{\"gridcolor\":\"white\",\"linecolor\":\"white\",\"ticks\":\"\",\"title\":{\"standoff\":15},\"zerolinecolor\":\"white\",\"automargin\":true,\"zerolinewidth\":2},\"yaxis\":{\"gridcolor\":\"white\",\"linecolor\":\"white\",\"ticks\":\"\",\"title\":{\"standoff\":15},\"zerolinecolor\":\"white\",\"automargin\":true,\"zerolinewidth\":2},\"scene\":{\"xaxis\":{\"backgroundcolor\":\"#E5ECF6\",\"gridcolor\":\"white\",\"linecolor\":\"white\",\"showbackground\":true,\"ticks\":\"\",\"zerolinecolor\":\"white\",\"gridwidth\":2},\"yaxis\":{\"backgroundcolor\":\"#E5ECF6\",\"gridcolor\":\"white\",\"linecolor\":\"white\",\"showbackground\":true,\"ticks\":\"\",\"zerolinecolor\":\"white\",\"gridwidth\":2},\"zaxis\":{\"backgroundcolor\":\"#E5ECF6\",\"gridcolor\":\"white\",\"linecolor\":\"white\",\"showbackground\":true,\"ticks\":\"\",\"zerolinecolor\":\"white\",\"gridwidth\":2}},\"shapedefaults\":{\"line\":{\"color\":\"#2a3f5f\"}},\"annotationdefaults\":{\"arrowcolor\":\"#2a3f5f\",\"arrowhead\":0,\"arrowwidth\":1},\"geo\":{\"bgcolor\":\"white\",\"landcolor\":\"#E5ECF6\",\"subunitcolor\":\"white\",\"showland\":true,\"showlakes\":true,\"lakecolor\":\"white\"},\"title\":{\"x\":0.05},\"mapbox\":{\"style\":\"light\"}}},\"title\":{\"text\":\"Social Security Fund Distribution\"},\"font\":{\"size\":10},\"height\":600,\"width\":1000,\"showlegend\":false},                        {\"responsive\": true}                    ).then(function(){\n",
       "                            \n",
       "var gd = document.getElementById('ba91089d-92e3-43b5-a252-9b35644cb4b3');\n",
       "var x = new MutationObserver(function (mutations, observer) {{\n",
       "        var display = window.getComputedStyle(gd).display;\n",
       "        if (!display || display === 'none') {{\n",
       "            console.log([gd, 'removed!']);\n",
       "            Plotly.purge(gd);\n",
       "            observer.disconnect();\n",
       "        }}\n",
       "}});\n",
       "\n",
       "// Listen for the removal of the full notebook cells\n",
       "var notebookContainer = gd.closest('#notebook-container');\n",
       "if (notebookContainer) {{\n",
       "    x.observe(notebookContainer, {childList: true});\n",
       "}}\n",
       "\n",
       "// Listen for the clearing of the current output cell\n",
       "var outputEl = gd.closest('.output');\n",
       "if (outputEl) {{\n",
       "    x.observe(outputEl, {childList: true});\n",
       "}}\n",
       "\n",
       "                        })                };                });            </script>        </div>"
      ]
     },
     "metadata": {},
     "output_type": "display_data"
    }
   ],
   "source": [
    "import plotly.graph_objects as go\n",
    "\n",
    "# Define the nodes (with unique flow relationships)\n",
    "node_labels = [\n",
    "    \"Employer + Employee 6.2% FICA\",  # 0\n",
    "    \"Self-employed 14.2% FICA\",       # 1\n",
    "    \"Social Security Trust Fund\",     # 2\n",
    "    \"Retirement (OASI)\",               # 3\n",
    "    \"Retired Workers\",                 # 4\n",
    "    \"Normal Retirement (≈66)\",       # 5\n",
    "    \"Early Retirement (< 66)\",  # 6\n",
    "    \"Delayed Retirement (> 70)\",       # 7\n",
    "    \"Survivors\",                      # 8\n",
    "    \"Disability Insurance (DI)\"       # 9\n",
    "]\n",
    "\n",
    "# Define the links (flows between nodes)\n",
    "link_sources = [\n",
    "    0, 1,  # Employer + Employee FICA and Self-employed FICA -> Trust Fund\n",
    "    2, 2,  # Trust Fund -> Retirement (OASI) and Disability Insurance (DI)\n",
    "    3, 3,  # Retirement (OASI) -> Retired Workers and Survivors\n",
    "    4, 4, 4  # Retired Workers -> FRA, Early FRA, Max\n",
    "]\n",
    "\n",
    "link_targets = [\n",
    "    2, 2,  # Employer + Employee and Self-employed FICA -> Trust Fund\n",
    "    3, 9,  # Trust Fund -> Retirement (OASI) and Disability Insurance (DI)\n",
    "    4, 8,  # Retirement (OASI) -> Retired Workers and Survivors\n",
    "    6, 5, 7  # Retired Workers -> FRA, Early FRA, Max\n",
    "]\n",
    "\n",
    "# Manually define the flow values (can be modified with your actual data)\n",
    "link_values = [\n",
    "    100*df_fica[\"Employer_Employee\"].loc[2023], 100*df_fica[\"self_employ\"].loc[2023],  # FICA contributions in 2023\n",
    "    100*(df_ben_year[\"Retired_prop\"].loc[2023]+df_ben_year[\"Survivors_prop\"].loc[2023]), 100*df_ben_year[\"Disabled_prop\"].loc[2023],    # Trust Fund flows\n",
    "    100*(df_ben_year[\"Retired_prop\"].loc[2023]+df_ben_year[\"Survivors_prop\"].loc[2023])*(df_ben_year[\"Retired_prop\"].loc[2023]), \\\n",
    "        100*(df_ben_year[\"Retired_prop\"].loc[2023]+df_ben_year[\"Survivors_prop\"].loc[2023]) -  100*(df_ben_year[\"Retired_prop\"].loc[2023]+df_ben_year[\"Survivors_prop\"].loc[2023])*(df_ben_year[\"Retired_prop\"].loc[2023]),    # Retirement (OASI) flows\n",
    "    68.1*(1-0.2), 68.1*0.14, 68.1*0.06 # Retired Workers flows\n",
    "]\n",
    "\n",
    "# Create the Sankey diagram\n",
    "fig = go.Figure(data=[go.Sankey(\n",
    "    node=dict(\n",
    "        pad=40,               # Increase space between nodes\n",
    "        thickness=20,         # Adjust node thickness\n",
    "        line=dict(color=\"black\", width=0.5),\n",
    "        label=node_labels,\n",
    "        color=\"blue\",\n",
    "        # Adjust Y positions of nodes to avoid overlap and make the OASI branch go up\n",
    "        y=[0.85, 0.85, 0.6, 0.75, 0.5, 0.35, 0.35, 0.35, 0.25, 0.2]  # Adjusted Y positions\n",
    "    ),\n",
    "    link=dict(\n",
    "        source=link_sources,\n",
    "        target=link_targets,\n",
    "        value=link_values,\n",
    "        color=\"gray\"\n",
    "    )\n",
    ")])\n",
    "\n",
    "# Update the layout to make the diagram taller and more readable\n",
    "fig.update_layout(\n",
    "    title_text=\"Social Security Fund Distribution\",\n",
    "    font_size=10,\n",
    "    height=600,   # Increase height for vertical space\n",
    "    width=1000,   # Adjust width for better node spacing\n",
    "    showlegend=False  # Remove legend (optional)\n",
    ")\n",
    "\n",
    "# Show the figure\n",
    "fig.show()\n"
   ]
  },
  {
   "cell_type": "code",
   "execution_count": 747,
   "id": "5d4bcaa8-7dc7-44d5-94a1-78a3cdd77f19",
   "metadata": {},
   "outputs": [
    {
     "data": {
      "image/png": "[encoded data removed]",
      "text/plain": [
       "<Figure size 1200x400 with 1 Axes>"
      ]
     },
     "metadata": {},
     "output_type": "display_data"
    }
   ],
   "source": [
    "df_ben_year\n",
    "\n",
    "plt.figure(figsize = (12,4))\n",
    "\n",
    "plt.stackplot(range(1967, 2025),\n",
    "              df_ben_year[\"Retired_prop\"], \n",
    "              df_ben_year[\"Survivors_prop\"], \n",
    "              df_ben_year[\"Disabled_prop\"],\n",
    "              labels=[\"Retired\", \"Survivors\", \"Disabled\"])\n",
    "plt.legend(loc=\"lower right\")\n",
    "plt.xlabel(\"Year\")\n",
    "plt.ylabel(\"Proportion\")\n",
    "plt.title(\"Proportions of Retired, Survivors, and Disabled from 1967 to 2024\")\n",
    "plt.show()"
   ]
  },
  {
   "cell_type": "code",
   "execution_count": 705,
   "id": "295f24b8-0ce2-4729-b51f-914bf0f9b516",
   "metadata": {},
   "outputs": [
    {
     "data": {
      "text/plain": [
       "range(1967, 2025)"
      ]
     },
     "execution_count": 705,
     "metadata": {},
     "output_type": "execute_result"
    }
   ],
   "source": [
    "df_ben_year[[\"Retired_prop\", \"Survivors_prop\",\"Disabled_prop\"]]\n",
    "df_ben_year.index\n"
   ]
  }
 ],
 "metadata": {
  "kernelspec": {
   "display_name": "Python 3 (ipykernel)",
   "language": "python",
   "name": "python3"
  },
  "language_info": {
   "codemirror_mode": {
    "name": "ipython",
    "version": 3
   },
   "file_extension": ".py",
   "mimetype": "text/x-python",
   "name": "python",
   "nbconvert_exporter": "python",
   "pygments_lexer": "ipython3",
   "version": "3.12.4"
  }
 },
 "nbformat": 4,
 "nbformat_minor": 5
}
