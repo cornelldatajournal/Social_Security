{
 "cells": [
  {
   "cell_type": "markdown",
   "id": "04c93dcf-de41-4f1c-9296-f4db080de528",
   "metadata": {},
   "source": [
    "# CDJ Project Social Security\n",
    "\n",
    "The purpose of this file is to create the Sankey diagram based on real proportions from our data. This is for figure 2.\n",
    "\n",
    "Data from https://www.ssa.gov/oact/STATS/table3c3.html (df_fica) and https://www.ssa.gov/oact/progdata/icp.html (df_ben)"
   ]
  },
  {
   "cell_type": "code",
   "execution_count": 25,
   "id": "cb51dcef-4f6e-49ba-a305-77a5b7ae4f65",
   "metadata": {},
   "outputs": [],
   "source": [
    "#Import Packages\n",
    "\n",
    "import plotly.graph_objects as go\n",
    "import pandas as pd\n",
    "import matplotlib.pyplot as plt\n",
    "import seaborn as sns"
   ]
  },
  {
   "cell_type": "code",
   "execution_count": 27,
   "id": "a181197c-6043-4eed-81f7-c6b31e7cdc4f",
   "metadata": {},
   "outputs": [],
   "source": [
    "#Import FICA Tax Breakdown\n",
    "df_fica = pd.read_excel(\"OASDI_FICA_Breakdown.xlsx\") #extract excel\n",
    "df_fica = df_fica.T #transpose\n",
    "df_fica.columns = df_fica.iloc[0] \n",
    "df_fica.drop(index = \"Program and Source\", inplace = True) #set index"
   ]
  },
  {
   "cell_type": "code",
   "execution_count": 29,
   "id": "48464488-f757-442b-a9ed-fedee79ee25f",
   "metadata": {},
   "outputs": [],
   "source": [
    "#Create columns to plot.\n",
    "\n",
    "df_fica[\"tot\"] = df_fica[\"OASI_Employer\"]+df_fica[\"OASI_Employee\"]+df_fica[\"OASI_Self-employed\"]+df_fica[\"DI_Employer\"]+df_fica[\"DI_Employee\"]+df_fica[\"DI_Self-employed\"]\n",
    "df_fica[\"Employer_Employee\"] = (df_fica[\"OASI_Employer\"]+df_fica[\"OASI_Employee\"]+df_fica[\"DI_Employer\"]+df_fica[\"DI_Employee\"])/df_fica[\"tot\"]\n",
    "df_fica[\"self_employ\"] = (df_fica[\"OASI_Self-employed\"]+df_fica[\"DI_Self-employed\"])/df_fica[\"tot\"]"
   ]
  },
  {
   "cell_type": "code",
   "execution_count": 31,
   "id": "fce29461-32b2-428d-9ff9-bf2f7cbf9e03",
   "metadata": {},
   "outputs": [],
   "source": [
    "#Import Beneficiary Data \n",
    "\n",
    "df_ben = pd.read_excel(\"SS_Data_by_Type_of_Beneficiary2.xlsx\") #extract excel\n",
    "df_ben.rename(columns={ df_ben.columns[0]: \"Year\" }, inplace = True) #rename year column"
   ]
  },
  {
   "cell_type": "code",
   "execution_count": 33,
   "id": "fb13b9a9-82c5-427c-bccc-8f9fd585577a",
   "metadata": {},
   "outputs": [],
   "source": [
    "#INTERMEDIATE DATA PROCESSING. CAN IGNORE\n",
    "\n",
    "df_ben_year = df_ben.groupby(df_ben['Year'].dt.year).apply(lambda x: x.iloc[:, 1:].sum())\n",
    "def extract_beneficiary_type(specified_beneficiary):\n",
    "    x = df_ben_year.columns.str.startswith(specified_beneficiary) #gets the columns in an index with T and F\n",
    "    #x[0] = True #makes the date column from False to True\n",
    "    df_return = df_ben_year[df_ben_year.columns[x]]\n",
    "    return df_return\n",
    "\n",
    "beneficiary_types_ls = [\n",
    "    \n",
    "    \"Retired_Worker\", #0 - ret work\n",
    "    \"Spouse_of_Retired_Worker\", #1 - ret work\n",
    "    \"Child_Of_Retired_Worker\", #2 - ret work\n",
    "    \"Child_Of_Deceased_Worker\", #surv - 3\n",
    "    \"Aged_Widower\",#surv\n",
    "    \"Young_Widower_With_Child_In_Care\",#surv\n",
    "    \"Disabled_Widower\",#surv\n",
    "    \"Parent_Of_Deceased_Worker\",#surv -7\n",
    "    \"Disabled_Worker\", #dis - 8\n",
    "    \"Spouse_Of_Disabled_Worker\",\n",
    "    \"Child_Of_Disabled_Worker\" #dis - 10\n",
    "]\n"
   ]
  },
  {
   "cell_type": "code",
   "execution_count": 43,
   "id": "8671625d-dd2a-45ff-a808-a205de78c611",
   "metadata": {},
   "outputs": [],
   "source": [
    "#INTERMEDIATE DATA PROCESSING. CAN IGNORE\n",
    "\n",
    "retired_workers_category = extract_beneficiary_type(beneficiary_types_ls[0]).sum(axis = 1) + \\\n",
    "    extract_beneficiary_type(beneficiary_types_ls[1]).sum(axis = 1) + \\\n",
    "    extract_beneficiary_type(beneficiary_types_ls[2]).sum(axis = 1)\n",
    "\n",
    "survivors_category = extract_beneficiary_type(beneficiary_types_ls[3]).sum(axis = 1) + \\\n",
    "    extract_beneficiary_type(beneficiary_types_ls[4]).sum(axis = 1) + \\\n",
    "    extract_beneficiary_type(beneficiary_types_ls[5]).sum(axis = 1) + \\\n",
    "    extract_beneficiary_type(beneficiary_types_ls[6]).sum(axis = 1) + \\\n",
    "    extract_beneficiary_type(beneficiary_types_ls[7]).sum(axis = 1)\n",
    "\n",
    "disabled_category = extract_beneficiary_type(beneficiary_types_ls[8]).sum(axis = 1) + \\\n",
    "    extract_beneficiary_type(beneficiary_types_ls[9]).sum(axis = 1) + \\\n",
    "    extract_beneficiary_type(beneficiary_types_ls[10]).sum(axis = 1)\n",
    "\n",
    "tot = df_ben_year[:].sum(axis = 1)\n",
    "\n",
    "df_ben_year[\"Retired_prop\"] = retired_workers_category/tot #creates column of retired worker proportion compared to all beneficiaries\n",
    "df_ben_year[\"Survivors_prop\"] = survivors_category/tot #creates column of survivors proportion compared to all beneficiaries\n",
    "df_ben_year[\"Disabled_prop\"] = disabled_category/tot #creates column of disabled proportion compared to all beneficiaries\n",
    "\n",
    "#each of the above df has proportions from year 1967 to 2024 inclusive"
   ]
  },
  {
   "cell_type": "code",
   "execution_count": 55,
   "id": "a4ee9b2e-86a9-456c-aec6-76fc617f1a1e",
   "metadata": {},
   "outputs": [
    {
     "data": {
      "application/vnd.plotly.v1+json": {
       "config": {
        "plotlyServerURL": "https://plot.ly"
       },
       "data": [
        {
         "link": {
          "color": "gray",
          "source": [
           0,
           1,
           2,
           2,
           3,
           3,
           4,
           4,
           4
          ],
          "target": [
           2,
           2,
           3,
           9,
           4,
           8,
           6,
           5,
           7
          ],
          "value": [
           95.11037223258454,
           4.8896277674154565,
           87.00468308969988,
           12.995316910300136,
           68.06453861267813,
           18.940144477021747,
           54.48,
           9.534,
           4.085999999999999
          ]
         },
         "node": {
          "color": "blue",
          "label": [
           "Employer + Employee 6.2% FICA",
           "Self-employed 14.2% FICA",
           "Social Security Trust Fund",
           "Retirement (OASI)",
           "Retired Workers",
           "Normal Retirement (≈66)",
           "Early Retirement (< 66)",
           "Delayed Retirement (> 70)",
           "Survivors",
           "Disability Insurance (DI)"
          ],
          "line": {
           "color": "black",
           "width": 0.5
          },
          "pad": 40,
          "thickness": 20,
          "y": [
           0.85,
           0.85,
           0.6,
           0.75,
           0.5,
           0.35,
           0.35,
           0.35,
           0.25,
           0.2
          ]
         },
         "type": "sankey"
        }
       ],
       "layout": {
        "font": {
         "size": 10
        },
        "height": 600,
        "showlegend": false,
        "template": {
         "data": {
          "bar": [
           {
            "error_x": {
             "color": "#2a3f5f"
            },
            "error_y": {
             "color": "#2a3f5f"
            },
            "marker": {
             "line": {
              "color": "#E5ECF6",
              "width": 0.5
             },
             "pattern": {
              "fillmode": "overlay",
              "size": 10,
              "solidity": 0.2
             }
            },
            "type": "bar"
           }
          ],
          "barpolar": [
           {
            "marker": {
             "line": {
              "color": "#E5ECF6",
              "width": 0.5
             },
             "pattern": {
              "fillmode": "overlay",
              "size": 10,
              "solidity": 0.2
             }
            },
            "type": "barpolar"
           }
          ],
          "carpet": [
           {
            "aaxis": {
             "endlinecolor": "#2a3f5f",
             "gridcolor": "white",
             "linecolor": "white",
             "minorgridcolor": "white",
             "startlinecolor": "#2a3f5f"
            },
            "baxis": {
             "endlinecolor": "#2a3f5f",
             "gridcolor": "white",
             "linecolor": "white",
             "minorgridcolor": "white",
             "startlinecolor": "#2a3f5f"
            },
            "type": "carpet"
           }
          ],
          "choropleth": [
           {
            "colorbar": {
             "outlinewidth": 0,
             "ticks": ""
            },
            "type": "choropleth"
           }
          ],
          "contour": [
           {
            "colorbar": {
             "outlinewidth": 0,
             "ticks": ""
            },
            "colorscale": [
             [
              0,
              "#0d0887"
             ],
             [
              0.1111111111111111,
              "#46039f"
             ],
             [
              0.2222222222222222,
              "#7201a8"
             ],
             [
              0.3333333333333333,
              "#9c179e"
             ],
             [
              0.4444444444444444,
              "#bd3786"
             ],
             [
              0.5555555555555556,
              "#d8576b"
             ],
             [
              0.6666666666666666,
              "#ed7953"
             ],
             [
              0.7777777777777778,
              "#fb9f3a"
             ],
             [
              0.8888888888888888,
              "#fdca26"
             ],
             [
              1,
              "#f0f921"
             ]
            ],
            "type": "contour"
           }
          ],
          "contourcarpet": [
           {
            "colorbar": {
             "outlinewidth": 0,
             "ticks": ""
            },
            "type": "contourcarpet"
           }
          ],
          "heatmap": [
           {
            "colorbar": {
             "outlinewidth": 0,
             "ticks": ""
            },
            "colorscale": [
             [
              0,
              "#0d0887"
             ],
             [
              0.1111111111111111,
              "#46039f"
             ],
             [
              0.2222222222222222,
              "#7201a8"
             ],
             [
              0.3333333333333333,
              "#9c179e"
             ],
             [
              0.4444444444444444,
              "#bd3786"
             ],
             [
              0.5555555555555556,
              "#d8576b"
             ],
             [
              0.6666666666666666,
              "#ed7953"
             ],
             [
              0.7777777777777778,
              "#fb9f3a"
             ],
             [
              0.8888888888888888,
              "#fdca26"
             ],
             [
              1,
              "#f0f921"
             ]
            ],
            "type": "heatmap"
           }
          ],
          "heatmapgl": [
           {
            "colorbar": {
             "outlinewidth": 0,
             "ticks": ""
            },
            "colorscale": [
             [
              0,
              "#0d0887"
             ],
             [
              0.1111111111111111,
              "#46039f"
             ],
             [
              0.2222222222222222,
              "#7201a8"
             ],
             [
              0.3333333333333333,
              "#9c179e"
             ],
             [
              0.4444444444444444,
              "#bd3786"
             ],
             [
              0.5555555555555556,
              "#d8576b"
             ],
             [
              0.6666666666666666,
              "#ed7953"
             ],
             [
              0.7777777777777778,
              "#fb9f3a"
             ],
             [
              0.8888888888888888,
              "#fdca26"
             ],
             [
              1,
              "#f0f921"
             ]
            ],
            "type": "heatmapgl"
           }
          ],
          "histogram": [
           {
            "marker": {
             "pattern": {
              "fillmode": "overlay",
              "size": 10,
              "solidity": 0.2
             }
            },
            "type": "histogram"
           }
          ],
          "histogram2d": [
           {
            "colorbar": {
             "outlinewidth": 0,
             "ticks": ""
            },
            "colorscale": [
             [
              0,
              "#0d0887"
             ],
             [
              0.1111111111111111,
              "#46039f"
             ],
             [
              0.2222222222222222,
              "#7201a8"
             ],
             [
              0.3333333333333333,
              "#9c179e"
             ],
             [
              0.4444444444444444,
              "#bd3786"
             ],
             [
              0.5555555555555556,
              "#d8576b"
             ],
             [
              0.6666666666666666,
              "#ed7953"
             ],
             [
              0.7777777777777778,
              "#fb9f3a"
             ],
             [
              0.8888888888888888,
              "#fdca26"
             ],
             [
              1,
              "#f0f921"
             ]
            ],
            "type": "histogram2d"
           }
          ],
          "histogram2dcontour": [
           {
            "colorbar": {
             "outlinewidth": 0,
             "ticks": ""
            },
            "colorscale": [
             [
              0,
              "#0d0887"
             ],
             [
              0.1111111111111111,
              "#46039f"
             ],
             [
              0.2222222222222222,
              "#7201a8"
             ],
             [
              0.3333333333333333,
              "#9c179e"
             ],
             [
              0.4444444444444444,
              "#bd3786"
             ],
             [
              0.5555555555555556,
              "#d8576b"
             ],
             [
              0.6666666666666666,
              "#ed7953"
             ],
             [
              0.7777777777777778,
              "#fb9f3a"
             ],
             [
              0.8888888888888888,
              "#fdca26"
             ],
             [
              1,
              "#f0f921"
             ]
            ],
            "type": "histogram2dcontour"
           }
          ],
          "mesh3d": [
           {
            "colorbar": {
             "outlinewidth": 0,
             "ticks": ""
            },
            "type": "mesh3d"
           }
          ],
          "parcoords": [
           {
            "line": {
             "colorbar": {
              "outlinewidth": 0,
              "ticks": ""
             }
            },
            "type": "parcoords"
           }
          ],
          "pie": [
           {
            "automargin": true,
            "type": "pie"
           }
          ],
          "scatter": [
           {
            "fillpattern": {
             "fillmode": "overlay",
             "size": 10,
             "solidity": 0.2
            },
            "type": "scatter"
           }
          ],
          "scatter3d": [
           {
            "line": {
             "colorbar": {
              "outlinewidth": 0,
              "ticks": ""
             }
            },
            "marker": {
             "colorbar": {
              "outlinewidth": 0,
              "ticks": ""
             }
            },
            "type": "scatter3d"
           }
          ],
          "scattercarpet": [
           {
            "marker": {
             "colorbar": {
              "outlinewidth": 0,
              "ticks": ""
             }
            },
            "type": "scattercarpet"
           }
          ],
          "scattergeo": [
           {
            "marker": {
             "colorbar": {
              "outlinewidth": 0,
              "ticks": ""
             }
            },
            "type": "scattergeo"
           }
          ],
          "scattergl": [
           {
            "marker": {
             "colorbar": {
              "outlinewidth": 0,
              "ticks": ""
             }
            },
            "type": "scattergl"
           }
          ],
          "scattermapbox": [
           {
            "marker": {
             "colorbar": {
              "outlinewidth": 0,
              "ticks": ""
             }
            },
            "type": "scattermapbox"
           }
          ],
          "scatterpolar": [
           {
            "marker": {
             "colorbar": {
              "outlinewidth": 0,
              "ticks": ""
             }
            },
            "type": "scatterpolar"
           }
          ],
          "scatterpolargl": [
           {
            "marker": {
             "colorbar": {
              "outlinewidth": 0,
              "ticks": ""
             }
            },
            "type": "scatterpolargl"
           }
          ],
          "scatterternary": [
           {
            "marker": {
             "colorbar": {
              "outlinewidth": 0,
              "ticks": ""
             }
            },
            "type": "scatterternary"
           }
          ],
          "surface": [
           {
            "colorbar": {
             "outlinewidth": 0,
             "ticks": ""
            },
            "colorscale": [
             [
              0,
              "#0d0887"
             ],
             [
              0.1111111111111111,
              "#46039f"
             ],
             [
              0.2222222222222222,
              "#7201a8"
             ],
             [
              0.3333333333333333,
              "#9c179e"
             ],
             [
              0.4444444444444444,
              "#bd3786"
             ],
             [
              0.5555555555555556,
              "#d8576b"
             ],
             [
              0.6666666666666666,
              "#ed7953"
             ],
             [
              0.7777777777777778,
              "#fb9f3a"
             ],
             [
              0.8888888888888888,
              "#fdca26"
             ],
             [
              1,
              "#f0f921"
             ]
            ],
            "type": "surface"
           }
          ],
          "table": [
           {
            "cells": {
             "fill": {
              "color": "#EBF0F8"
             },
             "line": {
              "color": "white"
             }
            },
            "header": {
             "fill": {
              "color": "#C8D4E3"
             },
             "line": {
              "color": "white"
             }
            },
            "type": "table"
           }
          ]
         },
         "layout": {
          "annotationdefaults": {
           "arrowcolor": "#2a3f5f",
           "arrowhead": 0,
           "arrowwidth": 1
          },
          "autotypenumbers": "strict",
          "coloraxis": {
           "colorbar": {
            "outlinewidth": 0,
            "ticks": ""
           }
          },
          "colorscale": {
           "diverging": [
            [
             0,
             "#8e0152"
            ],
            [
             0.1,
             "#c51b7d"
            ],
            [
             0.2,
             "#de77ae"
            ],
            [
             0.3,
             "#f1b6da"
            ],
            [
             0.4,
             "#fde0ef"
            ],
            [
             0.5,
             "#f7f7f7"
            ],
            [
             0.6,
             "#e6f5d0"
            ],
            [
             0.7,
             "#b8e186"
            ],
            [
             0.8,
             "#7fbc41"
            ],
            [
             0.9,
             "#4d9221"
            ],
            [
             1,
             "#276419"
            ]
           ],
           "sequential": [
            [
             0,
             "#0d0887"
            ],
            [
             0.1111111111111111,
             "#46039f"
            ],
            [
             0.2222222222222222,
             "#7201a8"
            ],
            [
             0.3333333333333333,
             "#9c179e"
            ],
            [
             0.4444444444444444,
             "#bd3786"
            ],
            [
             0.5555555555555556,
             "#d8576b"
            ],
            [
             0.6666666666666666,
             "#ed7953"
            ],
            [
             0.7777777777777778,
             "#fb9f3a"
            ],
            [
             0.8888888888888888,
             "#fdca26"
            ],
            [
             1,
             "#f0f921"
            ]
           ],
           "sequentialminus": [
            [
             0,
             "#0d0887"
            ],
            [
             0.1111111111111111,
             "#46039f"
            ],
            [
             0.2222222222222222,
             "#7201a8"
            ],
            [
             0.3333333333333333,
             "#9c179e"
            ],
            [
             0.4444444444444444,
             "#bd3786"
            ],
            [
             0.5555555555555556,
             "#d8576b"
            ],
            [
             0.6666666666666666,
             "#ed7953"
            ],
            [
             0.7777777777777778,
             "#fb9f3a"
            ],
            [
             0.8888888888888888,
             "#fdca26"
            ],
            [
             1,
             "#f0f921"
            ]
           ]
          },
          "colorway": [
           "#636efa",
           "#EF553B",
           "#00cc96",
           "#ab63fa",
           "#FFA15A",
           "#19d3f3",
           "#FF6692",
           "#B6E880",
           "#FF97FF",
           "#FECB52"
          ],
          "font": {
           "color": "#2a3f5f"
          },
          "geo": {
           "bgcolor": "white",
           "lakecolor": "white",
           "landcolor": "#E5ECF6",
           "showlakes": true,
           "showland": true,
           "subunitcolor": "white"
          },
          "hoverlabel": {
           "align": "left"
          },
          "hovermode": "closest",
          "mapbox": {
           "style": "light"
          },
          "paper_bgcolor": "white",
          "plot_bgcolor": "#E5ECF6",
          "polar": {
           "angularaxis": {
            "gridcolor": "white",
            "linecolor": "white",
            "ticks": ""
           },
           "bgcolor": "#E5ECF6",
           "radialaxis": {
            "gridcolor": "white",
            "linecolor": "white",
            "ticks": ""
           }
          },
          "scene": {
           "xaxis": {
            "backgroundcolor": "#E5ECF6",
            "gridcolor": "white",
            "gridwidth": 2,
            "linecolor": "white",
            "showbackground": true,
            "ticks": "",
            "zerolinecolor": "white"
           },
           "yaxis": {
            "backgroundcolor": "#E5ECF6",
            "gridcolor": "white",
            "gridwidth": 2,
            "linecolor": "white",
            "showbackground": true,
            "ticks": "",
            "zerolinecolor": "white"
           },
           "zaxis": {
            "backgroundcolor": "#E5ECF6",
            "gridcolor": "white",
            "gridwidth": 2,
            "linecolor": "white",
            "showbackground": true,
            "ticks": "",
            "zerolinecolor": "white"
           }
          },
          "shapedefaults": {
           "line": {
            "color": "#2a3f5f"
           }
          },
          "ternary": {
           "aaxis": {
            "gridcolor": "white",
            "linecolor": "white",
            "ticks": ""
           },
           "baxis": {
            "gridcolor": "white",
            "linecolor": "white",
            "ticks": ""
           },
           "bgcolor": "#E5ECF6",
           "caxis": {
            "gridcolor": "white",
            "linecolor": "white",
            "ticks": ""
           }
          },
          "title": {
           "x": 0.05
          },
          "xaxis": {
           "automargin": true,
           "gridcolor": "white",
           "linecolor": "white",
           "ticks": "",
           "title": {
            "standoff": 15
           },
           "zerolinecolor": "white",
           "zerolinewidth": 2
          },
          "yaxis": {
           "automargin": true,
           "gridcolor": "white",
           "linecolor": "white",
           "ticks": "",
           "title": {
            "standoff": 15
           },
           "zerolinecolor": "white",
           "zerolinewidth": 2
          }
         }
        },
        "title": {
         "text": "Social Security Trust Fund Money Inflows and Outflows"
        },
        "width": 1000
       }
      },
      "image/png": "[encoded data removed]",
      "text/html": [
       "<div>                            <div id=\"fb6fdad4-81fc-482b-92be-de69f49b5d46\" class=\"plotly-graph-div\" style=\"height:600px; width:1000px;\"></div>            <script type=\"text/javascript\">                require([\"plotly\"], function(Plotly) {                    window.PLOTLYENV=window.PLOTLYENV || {};                                    if (document.getElementById(\"fb6fdad4-81fc-482b-92be-de69f49b5d46\")) {                    Plotly.newPlot(                        \"fb6fdad4-81fc-482b-92be-de69f49b5d46\",                        [{\"link\":{\"color\":\"gray\",\"source\":[0,1,2,2,3,3,4,4,4],\"target\":[2,2,3,9,4,8,6,5,7],\"value\":[95.11037223258454,4.8896277674154565,87.00468308969988,12.995316910300136,68.06453861267813,18.940144477021747,54.48,9.534,4.085999999999999]},\"node\":{\"color\":\"blue\",\"label\":[\"Employer + Employee 6.2% FICA\",\"Self-employed 14.2% FICA\",\"Social Security Trust Fund\",\"Retirement (OASI)\",\"Retired Workers\",\"Normal Retirement (\\u224866)\",\"Early Retirement (\\u003c 66)\",\"Delayed Retirement (\\u003e 70)\",\"Survivors\",\"Disability Insurance (DI)\"],\"line\":{\"color\":\"black\",\"width\":0.5},\"pad\":40,\"thickness\":20,\"y\":[0.85,0.85,0.6,0.75,0.5,0.35,0.35,0.35,0.25,0.2]},\"type\":\"sankey\"}],                        {\"template\":{\"data\":{\"histogram2dcontour\":[{\"type\":\"histogram2dcontour\",\"colorbar\":{\"outlinewidth\":0,\"ticks\":\"\"},\"colorscale\":[[0.0,\"#0d0887\"],[0.1111111111111111,\"#46039f\"],[0.2222222222222222,\"#7201a8\"],[0.3333333333333333,\"#9c179e\"],[0.4444444444444444,\"#bd3786\"],[0.5555555555555556,\"#d8576b\"],[0.6666666666666666,\"#ed7953\"],[0.7777777777777778,\"#fb9f3a\"],[0.8888888888888888,\"#fdca26\"],[1.0,\"#f0f921\"]]}],\"choropleth\":[{\"type\":\"choropleth\",\"colorbar\":{\"outlinewidth\":0,\"ticks\":\"\"}}],\"histogram2d\":[{\"type\":\"histogram2d\",\"colorbar\":{\"outlinewidth\":0,\"ticks\":\"\"},\"colorscale\":[[0.0,\"#0d0887\"],[0.1111111111111111,\"#46039f\"],[0.2222222222222222,\"#7201a8\"],[0.3333333333333333,\"#9c179e\"],[0.4444444444444444,\"#bd3786\"],[0.5555555555555556,\"#d8576b\"],[0.6666666666666666,\"#ed7953\"],[0.7777777777777778,\"#fb9f3a\"],[0.8888888888888888,\"#fdca26\"],[1.0,\"#f0f921\"]]}],\"heatmap\":[{\"type\":\"heatmap\",\"colorbar\":{\"outlinewidth\":0,\"ticks\":\"\"},\"colorscale\":[[0.0,\"#0d0887\"],[0.1111111111111111,\"#46039f\"],[0.2222222222222222,\"#7201a8\"],[0.3333333333333333,\"#9c179e\"],[0.4444444444444444,\"#bd3786\"],[0.5555555555555556,\"#d8576b\"],[0.6666666666666666,\"#ed7953\"],[0.7777777777777778,\"#fb9f3a\"],[0.8888888888888888,\"#fdca26\"],[1.0,\"#f0f921\"]]}],\"heatmapgl\":[{\"type\":\"heatmapgl\",\"colorbar\":{\"outlinewidth\":0,\"ticks\":\"\"},\"colorscale\":[[0.0,\"#0d0887\"],[0.1111111111111111,\"#46039f\"],[0.2222222222222222,\"#7201a8\"],[0.3333333333333333,\"#9c179e\"],[0.4444444444444444,\"#bd3786\"],[0.5555555555555556,\"#d8576b\"],[0.6666666666666666,\"#ed7953\"],[0.7777777777777778,\"#fb9f3a\"],[0.8888888888888888,\"#fdca26\"],[1.0,\"#f0f921\"]]}],\"contourcarpet\":[{\"type\":\"contourcarpet\",\"colorbar\":{\"outlinewidth\":0,\"ticks\":\"\"}}],\"contour\":[{\"type\":\"contour\",\"colorbar\":{\"outlinewidth\":0,\"ticks\":\"\"},\"colorscale\":[[0.0,\"#0d0887\"],[0.1111111111111111,\"#46039f\"],[0.2222222222222222,\"#7201a8\"],[0.3333333333333333,\"#9c179e\"],[0.4444444444444444,\"#bd3786\"],[0.5555555555555556,\"#d8576b\"],[0.6666666666666666,\"#ed7953\"],[0.7777777777777778,\"#fb9f3a\"],[0.8888888888888888,\"#fdca26\"],[1.0,\"#f0f921\"]]}],\"surface\":[{\"type\":\"surface\",\"colorbar\":{\"outlinewidth\":0,\"ticks\":\"\"},\"colorscale\":[[0.0,\"#0d0887\"],[0.1111111111111111,\"#46039f\"],[0.2222222222222222,\"#7201a8\"],[0.3333333333333333,\"#9c179e\"],[0.4444444444444444,\"#bd3786\"],[0.5555555555555556,\"#d8576b\"],[0.6666666666666666,\"#ed7953\"],[0.7777777777777778,\"#fb9f3a\"],[0.8888888888888888,\"#fdca26\"],[1.0,\"#f0f921\"]]}],\"mesh3d\":[{\"type\":\"mesh3d\",\"colorbar\":{\"outlinewidth\":0,\"ticks\":\"\"}}],\"scatter\":[{\"fillpattern\":{\"fillmode\":\"overlay\",\"size\":10,\"solidity\":0.2},\"type\":\"scatter\"}],\"parcoords\":[{\"type\":\"parcoords\",\"line\":{\"colorbar\":{\"outlinewidth\":0,\"ticks\":\"\"}}}],\"scatterpolargl\":[{\"type\":\"scatterpolargl\",\"marker\":{\"colorbar\":{\"outlinewidth\":0,\"ticks\":\"\"}}}],\"bar\":[{\"error_x\":{\"color\":\"#2a3f5f\"},\"error_y\":{\"color\":\"#2a3f5f\"},\"marker\":{\"line\":{\"color\":\"#E5ECF6\",\"width\":0.5},\"pattern\":{\"fillmode\":\"overlay\",\"size\":10,\"solidity\":0.2}},\"type\":\"bar\"}],\"scattergeo\":[{\"type\":\"scattergeo\",\"marker\":{\"colorbar\":{\"outlinewidth\":0,\"ticks\":\"\"}}}],\"scatterpolar\":[{\"type\":\"scatterpolar\",\"marker\":{\"colorbar\":{\"outlinewidth\":0,\"ticks\":\"\"}}}],\"histogram\":[{\"marker\":{\"pattern\":{\"fillmode\":\"overlay\",\"size\":10,\"solidity\":0.2}},\"type\":\"histogram\"}],\"scattergl\":[{\"type\":\"scattergl\",\"marker\":{\"colorbar\":{\"outlinewidth\":0,\"ticks\":\"\"}}}],\"scatter3d\":[{\"type\":\"scatter3d\",\"line\":{\"colorbar\":{\"outlinewidth\":0,\"ticks\":\"\"}},\"marker\":{\"colorbar\":{\"outlinewidth\":0,\"ticks\":\"\"}}}],\"scattermapbox\":[{\"type\":\"scattermapbox\",\"marker\":{\"colorbar\":{\"outlinewidth\":0,\"ticks\":\"\"}}}],\"scatterternary\":[{\"type\":\"scatterternary\",\"marker\":{\"colorbar\":{\"outlinewidth\":0,\"ticks\":\"\"}}}],\"scattercarpet\":[{\"type\":\"scattercarpet\",\"marker\":{\"colorbar\":{\"outlinewidth\":0,\"ticks\":\"\"}}}],\"carpet\":[{\"aaxis\":{\"endlinecolor\":\"#2a3f5f\",\"gridcolor\":\"white\",\"linecolor\":\"white\",\"minorgridcolor\":\"white\",\"startlinecolor\":\"#2a3f5f\"},\"baxis\":{\"endlinecolor\":\"#2a3f5f\",\"gridcolor\":\"white\",\"linecolor\":\"white\",\"minorgridcolor\":\"white\",\"startlinecolor\":\"#2a3f5f\"},\"type\":\"carpet\"}],\"table\":[{\"cells\":{\"fill\":{\"color\":\"#EBF0F8\"},\"line\":{\"color\":\"white\"}},\"header\":{\"fill\":{\"color\":\"#C8D4E3\"},\"line\":{\"color\":\"white\"}},\"type\":\"table\"}],\"barpolar\":[{\"marker\":{\"line\":{\"color\":\"#E5ECF6\",\"width\":0.5},\"pattern\":{\"fillmode\":\"overlay\",\"size\":10,\"solidity\":0.2}},\"type\":\"barpolar\"}],\"pie\":[{\"automargin\":true,\"type\":\"pie\"}]},\"layout\":{\"autotypenumbers\":\"strict\",\"colorway\":[\"#636efa\",\"#EF553B\",\"#00cc96\",\"#ab63fa\",\"#FFA15A\",\"#19d3f3\",\"#FF6692\",\"#B6E880\",\"#FF97FF\",\"#FECB52\"],\"font\":{\"color\":\"#2a3f5f\"},\"hovermode\":\"closest\",\"hoverlabel\":{\"align\":\"left\"},\"paper_bgcolor\":\"white\",\"plot_bgcolor\":\"#E5ECF6\",\"polar\":{\"bgcolor\":\"#E5ECF6\",\"angularaxis\":{\"gridcolor\":\"white\",\"linecolor\":\"white\",\"ticks\":\"\"},\"radialaxis\":{\"gridcolor\":\"white\",\"linecolor\":\"white\",\"ticks\":\"\"}},\"ternary\":{\"bgcolor\":\"#E5ECF6\",\"aaxis\":{\"gridcolor\":\"white\",\"linecolor\":\"white\",\"ticks\":\"\"},\"baxis\":{\"gridcolor\":\"white\",\"linecolor\":\"white\",\"ticks\":\"\"},\"caxis\":{\"gridcolor\":\"white\",\"linecolor\":\"white\",\"ticks\":\"\"}},\"coloraxis\":{\"colorbar\":{\"outlinewidth\":0,\"ticks\":\"\"}},\"colorscale\":{\"sequential\":[[0.0,\"#0d0887\"],[0.1111111111111111,\"#46039f\"],[0.2222222222222222,\"#7201a8\"],[0.3333333333333333,\"#9c179e\"],[0.4444444444444444,\"#bd3786\"],[0.5555555555555556,\"#d8576b\"],[0.6666666666666666,\"#ed7953\"],[0.7777777777777778,\"#fb9f3a\"],[0.8888888888888888,\"#fdca26\"],[1.0,\"#f0f921\"]],\"sequentialminus\":[[0.0,\"#0d0887\"],[0.1111111111111111,\"#46039f\"],[0.2222222222222222,\"#7201a8\"],[0.3333333333333333,\"#9c179e\"],[0.4444444444444444,\"#bd3786\"],[0.5555555555555556,\"#d8576b\"],[0.6666666666666666,\"#ed7953\"],[0.7777777777777778,\"#fb9f3a\"],[0.8888888888888888,\"#fdca26\"],[1.0,\"#f0f921\"]],\"diverging\":[[0,\"#8e0152\"],[0.1,\"#c51b7d\"],[0.2,\"#de77ae\"],[0.3,\"#f1b6da\"],[0.4,\"#fde0ef\"],[0.5,\"#f7f7f7\"],[0.6,\"#e6f5d0\"],[0.7,\"#b8e186\"],[0.8,\"#7fbc41\"],[0.9,\"#4d9221\"],[1,\"#276419\"]]},\"xaxis\":{\"gridcolor\":\"white\",\"linecolor\":\"white\",\"ticks\":\"\",\"title\":{\"standoff\":15},\"zerolinecolor\":\"white\",\"automargin\":true,\"zerolinewidth\":2},\"yaxis\":{\"gridcolor\":\"white\",\"linecolor\":\"white\",\"ticks\":\"\",\"title\":{\"standoff\":15},\"zerolinecolor\":\"white\",\"automargin\":true,\"zerolinewidth\":2},\"scene\":{\"xaxis\":{\"backgroundcolor\":\"#E5ECF6\",\"gridcolor\":\"white\",\"linecolor\":\"white\",\"showbackground\":true,\"ticks\":\"\",\"zerolinecolor\":\"white\",\"gridwidth\":2},\"yaxis\":{\"backgroundcolor\":\"#E5ECF6\",\"gridcolor\":\"white\",\"linecolor\":\"white\",\"showbackground\":true,\"ticks\":\"\",\"zerolinecolor\":\"white\",\"gridwidth\":2},\"zaxis\":{\"backgroundcolor\":\"#E5ECF6\",\"gridcolor\":\"white\",\"linecolor\":\"white\",\"showbackground\":true,\"ticks\":\"\",\"zerolinecolor\":\"white\",\"gridwidth\":2}},\"shapedefaults\":{\"line\":{\"color\":\"#2a3f5f\"}},\"annotationdefaults\":{\"arrowcolor\":\"#2a3f5f\",\"arrowhead\":0,\"arrowwidth\":1},\"geo\":{\"bgcolor\":\"white\",\"landcolor\":\"#E5ECF6\",\"subunitcolor\":\"white\",\"showland\":true,\"showlakes\":true,\"lakecolor\":\"white\"},\"title\":{\"x\":0.05},\"mapbox\":{\"style\":\"light\"}}},\"title\":{\"text\":\"Social Security Trust Fund Money Inflows and Outflows\"},\"font\":{\"size\":10},\"height\":600,\"width\":1000,\"showlegend\":false},                        {\"responsive\": true}                    ).then(function(){\n",
       "                            \n",
       "var gd = document.getElementById('fb6fdad4-81fc-482b-92be-de69f49b5d46');\n",
       "var x = new MutationObserver(function (mutations, observer) {{\n",
       "        var display = window.getComputedStyle(gd).display;\n",
       "        if (!display || display === 'none') {{\n",
       "            console.log([gd, 'removed!']);\n",
       "            Plotly.purge(gd);\n",
       "            observer.disconnect();\n",
       "        }}\n",
       "}});\n",
       "\n",
       "// Listen for the removal of the full notebook cells\n",
       "var notebookContainer = gd.closest('#notebook-container');\n",
       "if (notebookContainer) {{\n",
       "    x.observe(notebookContainer, {childList: true});\n",
       "}}\n",
       "\n",
       "// Listen for the clearing of the current output cell\n",
       "var outputEl = gd.closest('.output');\n",
       "if (outputEl) {{\n",
       "    x.observe(outputEl, {childList: true});\n",
       "}}\n",
       "\n",
       "                        })                };                });            </script>        </div>"
      ]
     },
     "metadata": {},
     "output_type": "display_data"
    }
   ],
   "source": [
    "# Define the nodes (with unique flow relationships)\n",
    "node_labels = [\n",
    "    \"Employer + Employee 6.2% FICA\",  # 0\n",
    "    \"Self-employed 14.2% FICA\",       # 1\n",
    "    \"Social Security Trust Fund\",     # 2\n",
    "    \"Retirement (OASI)\",               # 3\n",
    "    \"Retired Workers\",                 # 4\n",
    "    \"Normal Retirement (≈66)\",       # 5\n",
    "    \"Early Retirement (< 66)\",  # 6\n",
    "    \"Delayed Retirement (> 70)\",       # 7\n",
    "    \"Survivors\",                      # 8\n",
    "    \"Disability Insurance (DI)\"       # 9\n",
    "]\n",
    "\n",
    "# Define the links (flows between nodes)\n",
    "link_sources = [\n",
    "    0, 1,  # Employer + Employee FICA and Self-employed FICA -> Trust Fund\n",
    "    2, 2,  # Trust Fund -> Retirement (OASI) and Disability Insurance (DI)\n",
    "    3, 3,  # Retirement (OASI) -> Retired Workers and Survivors\n",
    "    4, 4, 4  # Retired Workers -> FRA, Early FRA, Max\n",
    "]\n",
    "\n",
    "link_targets = [\n",
    "    2, 2,  # Employer + Employee and Self-employed FICA -> Trust Fund\n",
    "    3, 9,  # Trust Fund -> Retirement (OASI) and Disability Insurance (DI)\n",
    "    4, 8,  # Retirement (OASI) -> Retired Workers and Survivors\n",
    "    6, 5, 7  # Retired Workers -> FRA, Early FRA, Max\n",
    "]\n",
    "\n",
    "# Manually define the flow values (can be modified with your actual data)\n",
    "link_values = [\n",
    "    100*df_fica[\"Employer_Employee\"].loc[2023], 100*df_fica[\"self_employ\"].loc[2023],  # FICA contributions in 2023\n",
    "    100*(df_ben_year[\"Retired_prop\"].loc[2023]+df_ben_year[\"Survivors_prop\"].loc[2023]), 100*df_ben_year[\"Disabled_prop\"].loc[2023],    # Trust Fund flows\n",
    "    100*(df_ben_year[\"Retired_prop\"].loc[2023]+df_ben_year[\"Survivors_prop\"].loc[2023])*(df_ben_year[\"Retired_prop\"].loc[2023]), \\\n",
    "        100*(df_ben_year[\"Retired_prop\"].loc[2023]+df_ben_year[\"Survivors_prop\"].loc[2023]) -  100*(df_ben_year[\"Retired_prop\"].loc[2023]+df_ben_year[\"Survivors_prop\"].loc[2023])*(df_ben_year[\"Retired_prop\"].loc[2023]),    # Retirement (OASI) flows\n",
    "    68.1*(1-0.2), 68.1*0.14, 68.1*0.06 # Retired Workers flows\n",
    "]\n",
    "\n",
    "# Create the Sankey diagram\n",
    "fig = go.Figure(data=[go.Sankey(\n",
    "    node=dict(\n",
    "        pad=40,               # Increase space between nodes\n",
    "        thickness=20,         # Adjust node thickness\n",
    "        line=dict(color=\"black\", width=0.5),\n",
    "        label=node_labels,\n",
    "        color=\"blue\",\n",
    "        # Adjust Y positions of nodes to avoid overlap and make the OASI branch go up\n",
    "        y=[0.85, 0.85, 0.6, 0.75, 0.5, 0.35, 0.35, 0.35, 0.25, 0.2]  # Adjusted Y positions\n",
    "    ),\n",
    "    link=dict(\n",
    "        source=link_sources,\n",
    "        target=link_targets,\n",
    "        value=link_values,\n",
    "        color=\"gray\"\n",
    "    )\n",
    ")])\n",
    "\n",
    "# Update the layout to make the diagram taller and more readable\n",
    "fig.update_layout(\n",
    "    title_text=\"Social Security Trust Fund Money Inflows and Outflows\",\n",
    "    font_size=10,\n",
    "    height=600,   # Increase height for vertical space\n",
    "    width=1000,   # Adjust width for better node spacing\n",
    "    showlegend=False  \n",
    ")\n",
    "\n",
    "fig.show()\n"
   ]
  },
  {
   "cell_type": "code",
   "execution_count": 53,
   "id": "295f24b8-0ce2-4729-b51f-914bf0f9b516",
   "metadata": {},
   "outputs": [
    {
     "data": {
      "image/png": "[encoded data removed]",
      "text/plain": [
       "<Figure size 1200x400 with 1 Axes>"
      ]
     },
     "metadata": {},
     "output_type": "display_data"
    }
   ],
   "source": [
    "#OLD GRAPH DO NOT USE\n",
    "\n",
    "\n",
    "df_ben_year\n",
    "\n",
    "plt.figure(figsize = (12,4))\n",
    "\n",
    "plt.stackplot(range(1967, 2025),\n",
    "              df_ben_year[\"Retired_prop\"], \n",
    "              df_ben_year[\"Survivors_prop\"], \n",
    "              df_ben_year[\"Disabled_prop\"],\n",
    "              labels=[\"Retired\", \"Survivors\", \"Disabled\"])\n",
    "plt.legend(loc=\"lower right\")\n",
    "plt.xlabel(\"Year\")\n",
    "plt.ylabel(\"Proportion\")\n",
    "plt.title(\"Proportions of Retired, Survivors, and Disabled from 1967 to 2024\")\n",
    "plt.show()"
   ]
  }
 ],
 "metadata": {
  "kernelspec": {
   "display_name": "Python 3 (ipykernel)",
   "language": "python",
   "name": "python3"
  },
  "language_info": {
   "codemirror_mode": {
    "name": "ipython",
    "version": 3
   },
   "file_extension": ".py",
   "mimetype": "text/x-python",
   "name": "python",
   "nbconvert_exporter": "python",
   "pygments_lexer": "ipython3",
   "version": "3.12.4"
  }
 },
 "nbformat": 4,
 "nbformat_minor": 5
}
