{
 "cells": [
  {
   "cell_type": "code",
   "execution_count": 15,
   "metadata": {},
   "outputs": [
    {
     "data": {
      "image/png": "[encoded data removed]",
      "text/plain": [
       "<Figure size 432x288 with 3 Axes>"
      ]
     },
     "metadata": {
      "needs_background": "light"
     },
     "output_type": "display_data"
    }
   ],
   "source": [
    "\n",
    "import numpy as np\n",
    "import matplotlib.pyplot as plt\n",
    "from matplotlib.widgets import Slider, Button\n",
    "\n",
    "fig, ax = plt.subplots()\n",
    "\n",
    "proposal_cost_rate = [14.71, 15.00, 15.19, 15.35, 15.40, 15.45, 15.50, 15.54, 15.57, 15.71,\n",
    "                      15.81, 15.90, 15.98, 16.05, 16.11, 16.16, 16.21, 16.24, 16.27, 16.28,\n",
    "                      16.29, 16.30, 16.31, 16.32, 16.34, 16.36, 16.38, 16.42, 16.45, 16.50,\n",
    "                      16.55, 16.61, 16.67, 16.74, 16.81, 16.88, 16.95, 17.01, 17.06, 17.12,\n",
    "                      17.17, 17.23, 17.28, 17.34, 17.39, 17.46, 17.51, 17.57, 17.62, 17.68,\n",
    "                      17.73, 17.77, 17.80, 17.82, 17.83, 17.83, 17.82, 17.81, 17.79, 17.76,\n",
    "                      17.72, 17.67, 17.62, 17.56, 17.51, 17.45, 17.40, 17.37, 17.34, 17.33,\n",
    "                      17.32, 17.33, 17.35, 17.37, 17.40]\n",
    "\n",
    "proposal_income_rate  = [\n",
    "13.03, 12.89, 13.07, 13.11, 13.13, 13.16, 13.18, 13.20, 13.22, 13.26,\n",
    "    13.27, 13.28, 13.29, 13.30, 13.31, 13.31, 13.32, 13.32, 13.33, 13.33,\n",
    "    13.33, 13.33, 13.34, 13.34, 13.34, 13.34, 13.35, 13.35, 13.35, 13.36,\n",
    "    13.36, 13.36, 13.37, 13.38, 13.38, 13.39, 13.39, 13.40, 13.40, 13.41,\n",
    "    13.41, 13.42, 13.42, 13.43, 13.43, 13.44, 13.44, 13.44, 13.45, 13.45,\n",
    "    13.46, 13.46, 13.47, 13.47, 13.47, 13.47, 13.47, 13.47, 13.47, 13.47,\n",
    "    13.47, 13.47, 13.46, 13.46, 13.46, 13.45, 13.45, 13.45, 13.44, 13.44,\n",
    "    13.44, 13.44, 13.44, 13.44, 13.45, 13.45\n",
    "]\n",
    "\n",
    "axyear = plt.axes([0.1, 0.02, 0.8, 0.05])\n",
    "year_slider = Slider(axyear, 'Year', 2024, 2099, valinit=2024, valstep=1)\n",
    "\n",
    "x_axis = [\"Proposal Cost Rate\", \"Proposal Income Rate\"]\n",
    "y_axis = [proposal_cost_rate[0], proposal_income_rate[0]]\n",
    "\n",
    "bars = ax.bar(x_axis, y_axis, color='purple', edgecolor=\"black\")\n",
    "\n",
    "def update(val):\n",
    "    year = int(year_slider.val)\n",
    "    index = year - 2024  \n",
    "    new_y_axis = [proposal_cost_rate[index], proposal_income_rate[index]]\n",
    "    \n",
    "    for bar, new_height in zip(bars, new_y_axis):\n",
    "        bar.set_height(new_height)\n",
    "    \n",
    "    fig.canvas.draw_idle() \n",
    "\n",
    "year_slider.on_changed(update)\n",
    "\n",
    "resetax = plt.axes([0.8, 0.025, 0.1, 0.04])\n",
    "button = Button(resetax, 'Reset', color='blue', hovercolor='skyblue')\n",
    "\n",
    "def reset_slider(event):\n",
    "    year_slider.reset()\n",
    "\n",
    "button.on_clicked(reset_slider)\n",
    "\n",
    "plt.show()\n"
   ]
  }
 ],
 "metadata": {
  "kernelspec": {
   "display_name": "Python 3",
   "language": "python",
   "name": "python3"
  },
  "language_info": {
   "codemirror_mode": {
    "name": "ipython",
    "version": 3
   },
   "file_extension": ".py",
   "mimetype": "text/x-python",
   "name": "python",
   "nbconvert_exporter": "python",
   "pygments_lexer": "ipython3",
   "version": "3.9.12"
  }
 },
 "nbformat": 4,
 "nbformat_minor": 2
}
