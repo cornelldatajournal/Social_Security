{
 "cells": [
  {
   "cell_type": "markdown",
   "metadata": {},
   "source": [
    "This file demenstrates the percentage of shortfall covered by each policy"
   ]
  },
  {
   "cell_type": "code",
   "execution_count": null,
   "metadata": {
    "vscode": {
     "languageId": "plaintext"
    }
   },
   "outputs": [],
   "source": [
    "import pandas as pd\n",
    "import matplotlib.pyplot as plt\n",
    "import numpy as np\n",
    "\n",
    "# Load the dataset\n",
    "file_path = 'path_to_your_file.csv'  # Replace with your file path\n",
    "data = pd.read_csv(file_path)\n",
    "\n",
    "# Plotting the grouped bar chart\n",
    "categories = data[\"Policy Option\"]\n",
    "x = np.arange(len(categories))  # x locations for groups\n",
    "width = 0.25  # Width of the bars\n",
    "\n",
    "plt.figure(figsize=(14, 8))\n",
    "\n",
    "# Plot bars for each metric\n",
    "plt.bar(\n",
    "    x - width, \n",
    "    data[\"Change in Actuarial Balance (% of Taxable Payroll)\"], \n",
    "    width, \n",
    "    label=\"Change in Actuarial Balance (% of Taxable Payroll)\",\n",
    "    color='skyblue'\n",
    ")\n",
    "plt.bar(\n",
    "    x, \n",
    "    data[\"Percentage of Long-Range Actuarial Imbalance Fixed\"], \n",
    "    width, \n",
    "    label=\"Percentage of Long-Range Actuarial Imbalance Fixed\",\n",
    "    color='salmon'\n",
    ")\n",
    "plt.bar(\n",
    "    x + width, \n",
    "    data[\"Percentage of Annual Shortfall in 75th Year Fixed\"], \n",
    "    width, \n",
    "    label=\"Percentage of Annual Shortfall in 75th Year Fixed\",\n",
    "    color='lightgreen'\n",
    ")\n",
    "\n",
    "# Add titles, labels, and legend\n",
    "plt.title(\"Impact of Policies on Solving the Solvency Crisis\", fontsize=18, weight='bold')\n",
    "plt.xlabel(\"Policy Option\", fontsize=14)\n",
    "plt.ylabel(\"Percentage / Balance\", fontsize=14)\n",
    "plt.xticks(x, categories, fontsize=12)\n",
    "plt.yticks(fontsize=12)\n",
    "plt.legend(fontsize=12, loc=\"upper left\")\n",
    "plt.grid(axis='y', linestyle='--', alpha=0.7)\n",
    "\n",
    "# Display the plot\n",
    "plt.tight_layout()\n",
    "plt.show()\n"
   ]
  }
 ],
 "metadata": {
  "language_info": {
   "name": "python"
  }
 },
 "nbformat": 4,
 "nbformat_minor": 2
}
