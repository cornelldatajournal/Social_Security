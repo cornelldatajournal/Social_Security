{
 "cells": [
  {
   "cell_type": "markdown",
   "metadata": {},
   "source": [
    "[![image](https://jupyterlite.rtfd.io/en/latest/_static/badge.svg)](https://demo.leafmap.org/lab/index.html?path=maplibre/3d_choropleth.ipynb)\n",
    "[![image](https://colab.research.google.com/assets/colab-badge.svg)](https://colab.research.google.com/github/opengeos/leafmap/blob/master/docs/maplibre/3d_choropleth.ipynb)\n",
    "[![image](https://mybinder.org/badge_logo.svg)](https://mybinder.org/v2/gh/opengeos/leafmap/HEAD)\n",
    "\n",
    "**Create a 3D choropleth map of Europe with countries extruded**\n",
    "\n",
    "This source code of this example is adapted from the MapTiler SDK JS example - [Create a 3D choropleth map of Europe with countries extruded](https://docs.maptiler.com/sdk-js/examples/fill-extrusion).\n",
    "\n",
    "Uncomment the following line to install [leafmap](https://leafmap.org) if needed."
   ]
  },
  {
   "cell_type": "code",
   "execution_count": 1,
   "metadata": {},
   "outputs": [],
   "source": [
    "# %pip install \"leafmap[maplibre]\"\n",
    "\n",
    "import os\n",
    "import urllib.request, json \n",
    "import pandas as pd"
   ]
  },
  {
   "cell_type": "code",
   "execution_count": 2,
   "metadata": {},
   "outputs": [],
   "source": [
    "import leafmap.maplibregl as leafmap"
   ]
  },
  {
   "cell_type": "markdown",
   "metadata": {},
   "source": [
    "To run this notebook, you will need an [API key](https://docs.maptiler.com/cloud/api/authentication-key/) from [MapTiler](https://www.maptiler.com/cloud/). Once you have the API key, you can uncomment the following code block and replace `YOUR_API_KEY` with your actual API key. Then, run the code block code to set the API key as an environment variable."
   ]
  },
  {
   "cell_type": "code",
   "execution_count": 7,
   "metadata": {},
   "outputs": [
    {
     "name": "stdout",
     "output_type": "stream",
     "text": [
      "     COUNTYFIPS  total_taxpayers\n",
      "0             0      158700080.0\n",
      "1             1        3389510.0\n",
      "2             3        4592210.0\n",
      "3             5        3419930.0\n",
      "4             6          10080.0\n",
      "..          ...              ...\n",
      "325         800          45790.0\n",
      "326         810         222450.0\n",
      "327         820          11600.0\n",
      "328         830           5860.0\n",
      "329         840          13950.0\n",
      "\n",
      "[330 rows x 2 columns]\n",
      "       STATEFIPS STATE  COUNTYFIPS     COUNTYNAME  agi_stub        N1  \\\n",
      "0              1    AL           0        Alabama         1   52940.0   \n",
      "1              1    AL           0        Alabama         2  255300.0   \n",
      "2              1    AL           0        Alabama         3  465120.0   \n",
      "3              1    AL           0        Alabama         4  524150.0   \n",
      "4              1    AL           0        Alabama         5  291610.0   \n",
      "...          ...   ...         ...            ...       ...       ...   \n",
      "25547         56    WY          45  Weston County         4     640.0   \n",
      "25548         56    WY          45  Weston County         5     430.0   \n",
      "25549         56    WY          45  Weston County         6     410.0   \n",
      "25550         56    WY          45  Weston County         7     570.0   \n",
      "25551         56    WY          45  Weston County         8     120.0   \n",
      "\n",
      "          mars1     MARS2     MARS4       ELF  ...  N85300  A85300   N11901  \\\n",
      "0       34060.0   10010.0    7460.0   44170.0  ...     0.0     0.0    920.0   \n",
      "1      193580.0   22010.0   35910.0  235690.0  ...     0.0     0.0  11420.0   \n",
      "2      273340.0   54050.0  129410.0  442130.0  ...     0.0     0.0  32830.0   \n",
      "3      264300.0  109280.0  133600.0  495490.0  ...     0.0     0.0  86200.0   \n",
      "4      119230.0  115930.0   45520.0  274930.0  ...     0.0     0.0  78970.0   \n",
      "...         ...       ...       ...       ...  ...     ...     ...      ...   \n",
      "25547     360.0     190.0      80.0     620.0  ...     0.0     0.0    120.0   \n",
      "25548     160.0     220.0      40.0     420.0  ...     0.0     0.0    120.0   \n",
      "25549     110.0     260.0      40.0     390.0  ...     0.0     0.0    110.0   \n",
      "25550      80.0     480.0       0.0     540.0  ...     0.0     0.0    220.0   \n",
      "25551       0.0     110.0       0.0     120.0  ...    70.0   525.0     80.0   \n",
      "\n",
      "         A11901    N11900     A11900    N11902     A11902  N12000   A12000  \n",
      "0        2424.0   33950.0   157096.0   33450.0   146762.0   590.0   5806.0  \n",
      "1        6057.0  212860.0   492184.0  212030.0   489866.0  1030.0   2223.0  \n",
      "2       31941.0  420130.0  1692539.0  418720.0  1688138.0  2000.0   4484.0  \n",
      "3      114651.0  435060.0  1402370.0  432470.0  1393338.0  3670.0   9139.0  \n",
      "4      163755.0  212050.0   608143.0  208910.0   596437.0  4080.0  11529.0  \n",
      "...         ...       ...        ...       ...        ...     ...      ...  \n",
      "25547     168.0     520.0     1456.0     510.0     1438.0     0.0      0.0  \n",
      "25548     217.0     320.0     1015.0     310.0      988.0    40.0     73.0  \n",
      "25549     355.0     300.0     1085.0     290.0     1064.0     0.0      0.0  \n",
      "25550     927.0     340.0     1482.0     300.0     1303.0    40.0    179.0  \n",
      "25551    2212.0      50.0      817.0      30.0      135.0    20.0    339.0  \n",
      "\n",
      "[25552 rows x 168 columns]\n"
     ]
    }
   ],
   "source": [
    "# Load income data\n",
    "INCOME_URL = \"https://www.irs.gov/pub/irs-soi/21incyallagi.csv\"\n",
    "PD_INCOME = pd.read_csv(INCOME_URL, encoding='ISO-8859-1')\n",
    "PD_GROUPS = pd.read_csv(INCOME_URL, encoding='ISO-8859-1')\n",
    "\n",
    "GROUPED = PD_GROUPS.groupby(\"COUNTYFIPS\", as_index=False)['N1'].agg('sum').rename(columns={\"N1\": \"total_taxpayers\"})\n",
    "print(GROUPED)\n",
    "print(PD_INCOME)\n",
    "MERGED = PD_INCOME.merge(PD_GROUPS, on=\"COUNTYFIPS\", how=\"inner\")\n",
    "\n",
    " \n",
    "\n",
    "#GET HELP MERGING BY COUNTY ID\n",
    "COUNTIES_URL = \"https://open.gishub.org/data/us/us_counties.geojson\"\n",
    "with urllib.request.urlopen(COUNTIES_URL) as response:\n",
    "    COUNTIES_JSON = json.load(response)\n",
    "    PD_COUNTIES = pd.json_normalize(COUNTIES_JSON['features'])\n",
    "\n",
    "# Add GeoJSON source\n",
    "source = {\n",
    "    \"type\": \"geojson\",\n",
    "    \"data\": COUNTIES_URL,\n",
    "}"
   ]
  },
  {
   "cell_type": "code",
   "execution_count": 4,
   "metadata": {},
   "outputs": [
    {
     "name": "stdout",
     "output_type": "stream",
     "text": [
      "Failed to retrieve the MapTiler style. Defaulting to OpenFreeMap 'liberty' style.\n"
     ]
    },
    {
     "data": {
      "application/vnd.jupyter.widget-view+json": {
       "model_id": "9e57631ae09c4a14afbac4da1f6dfead",
       "version_major": 2,
       "version_minor": 1
      },
      "text/plain": [
       "Map(height='600px', map_options={'bearing': 0, 'center': (-100, 40), 'pitch': 60, 'style': 'https://tiles.open…"
      ]
     },
     "execution_count": 4,
     "metadata": {},
     "output_type": "execute_result"
    }
   ],
   "source": [
    "\n",
    "\n",
    "# Create a map\n",
    "m = leafmap.Map(center=[-100, 40], zoom=3, pitch=60, style=\"simple\")\n",
    "\n",
    "\n",
    "m.add_source('counties', source)\n",
    "\n",
    "# Define the fill-extrusion layer\n",
    "layer = {\n",
    "    \"id\": \"us-counties\",\n",
    "    \"source\": \"counties\",\n",
    "    \"type\": \"fill-extrusion\",\n",
    "    \"paint\": {\n",
    "        \"fill-extrusion-color\": [\n",
    "            \"interpolate\",\n",
    "            [\"linear\"],\n",
    "            [\"get\", \"CENSUSAREA\"],\n",
    "            23.0, \"#ffffff\",\n",
    "            200, \"#fee6ce\",\n",
    "            500, \"#fdd0a2\",\n",
    "            1000, \"#8c2d04\",\n",
    "        ],\n",
    "        \"fill-extrusion-opacity\": 1,\n",
    "        \"fill-extrusion-height\": [\"*\", [\"get\", \"CENSUSAREA\"], 100],\n",
    "    },\n",
    "}\n",
    "\n",
    "# Add the layer to the map\n",
    "m.add_layer(layer)\n",
    "\n",
    "# # Define the names layer\n",
    "# names_layer = {\n",
    "#     \"id\": \"us-counties-name\",\n",
    "#     \"source\": \"counties\",\n",
    "#     \"type\": \"symbol\",\n",
    "#     \"layout\": {\n",
    "#         \"text-field\": [\"get\", \"NAME\"],  # Assuming 'NAME' is the field for county names\n",
    "#         'text-variable-anchor': ['top', 'bottom', 'left', 'right'],\n",
    "#         'text-radial-offset': 0.5,\n",
    "#         'text-justify': 'auto',\n",
    "#     }\n",
    "# }\n",
    "\n",
    "# # Add the names layer to the map\n",
    "# m.add_layer(names_layer)\n",
    "\n",
    "# Add layer control\n",
    "m.add_layer_control()\n",
    "\n",
    "# Display the map\n",
    "m"
   ]
  },
  {
   "cell_type": "code",
   "execution_count": null,
   "metadata": {},
   "outputs": [],
   "source": []
  }
 ],
 "metadata": {
  "kernelspec": {
   "display_name": "Python 3 (ipykernel)",
   "language": "python",
   "name": "python3"
  },
  "language_info": {
   "codemirror_mode": {
    "name": "ipython",
    "version": 3
   },
   "file_extension": ".py",
   "mimetype": "text/x-python",
   "name": "python",
   "nbconvert_exporter": "python",
   "pygments_lexer": "ipython3",
   "version": "3.13.0"
  }
 },
 "nbformat": 4,
 "nbformat_minor": 4
}
